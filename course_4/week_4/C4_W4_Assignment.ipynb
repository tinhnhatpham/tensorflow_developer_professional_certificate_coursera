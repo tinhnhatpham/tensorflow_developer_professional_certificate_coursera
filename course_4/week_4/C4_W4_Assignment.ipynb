{
  "nbformat": 4,
  "nbformat_minor": 0,
  "metadata": {
    "accelerator": "GPU",
    "colab": {
      "name": "C4_W4_Assignment.ipynb",
      "provenance": [],
      "collapsed_sections": []
    },
    "kernelspec": {
      "display_name": "Python 3",
      "language": "python",
      "name": "python3"
    },
    "language_info": {
      "codemirror_mode": {
        "name": "ipython",
        "version": 3
      },
      "file_extension": ".py",
      "mimetype": "text/x-python",
      "name": "python",
      "nbconvert_exporter": "python",
      "pygments_lexer": "ipython3",
      "version": "3.8.5"
    }
  },
  "cells": [
    {
      "cell_type": "code",
      "metadata": {
        "id": "zX4Kg8DUTKWO"
      },
      "source": [
        "#@title Licensed under the Apache License, Version 2.0 (the \"License\");\n",
        "# you may not use this file except in compliance with the License.\n",
        "# You may obtain a copy of the License at\n",
        "#\n",
        "# https://www.apache.org/licenses/LICENSE-2.0\n",
        "#\n",
        "# Unless required by applicable law or agreed to in writing, software\n",
        "# distributed under the License is distributed on an \"AS IS\" BASIS,\n",
        "# WITHOUT WARRANTIES OR CONDITIONS OF ANY KIND, either express or implied.\n",
        "# See the License for the specific language governing permissions and\n",
        "# limitations under the License."
      ],
      "execution_count": 60,
      "outputs": []
    },
    {
      "cell_type": "markdown",
      "metadata": {
        "id": "1m0njwZtsvy_"
      },
      "source": [
        "**Note:** This notebook can run using TensorFlow 2.5.0"
      ]
    },
    {
      "cell_type": "code",
      "metadata": {
        "id": "D5DDeGwLsvzA"
      },
      "source": [
        "#!pip install tensorflow==2.5.0"
      ],
      "execution_count": 61,
      "outputs": []
    },
    {
      "cell_type": "code",
      "metadata": {
        "id": "56XEQOGknrAk",
        "outputId": "d5f70dae-095b-436f-ba69-ed00c280207d",
        "colab": {
          "base_uri": "https://localhost:8080/"
        }
      },
      "source": [
        "import tensorflow as tf\n",
        "print(tf.__version__)"
      ],
      "execution_count": 62,
      "outputs": [
        {
          "output_type": "stream",
          "name": "stdout",
          "text": [
            "2.8.0\n"
          ]
        }
      ]
    },
    {
      "cell_type": "code",
      "metadata": {
        "id": "sLl52leVp5wU"
      },
      "source": [
        "import numpy as np\n",
        "import matplotlib.pyplot as plt\n",
        "def plot_series(time, series, format=\"-\", start=0, end=None):\n",
        "    plt.plot(time[start:end], series[start:end], format)\n",
        "    plt.xlabel(\"Time\")\n",
        "    plt.ylabel(\"Value\")\n",
        "    plt.grid(True)"
      ],
      "execution_count": 63,
      "outputs": []
    },
    {
      "cell_type": "code",
      "metadata": {
        "id": "tP7oqUdkk0gY",
        "outputId": "f2737cc8-48aa-429e-9f75-8c38feea0274",
        "colab": {
          "base_uri": "https://localhost:8080/"
        }
      },
      "source": [
        "!wget --no-check-certificate \\\n",
        "    https://raw.githubusercontent.com/jbrownlee/Datasets/master/daily-min-temperatures.csv \\\n",
        "    -O /tmp/daily-min-temperatures.csv"
      ],
      "execution_count": 64,
      "outputs": [
        {
          "output_type": "stream",
          "name": "stdout",
          "text": [
            "--2022-03-16 02:58:06--  https://raw.githubusercontent.com/jbrownlee/Datasets/master/daily-min-temperatures.csv\n",
            "Resolving raw.githubusercontent.com (raw.githubusercontent.com)... 185.199.108.133, 185.199.111.133, 185.199.109.133, ...\n",
            "Connecting to raw.githubusercontent.com (raw.githubusercontent.com)|185.199.108.133|:443... connected.\n",
            "HTTP request sent, awaiting response... 200 OK\n",
            "Length: 67921 (66K) [text/plain]\n",
            "Saving to: ‘/tmp/daily-min-temperatures.csv’\n",
            "\n",
            "\r          /tmp/dail   0%[                    ]       0  --.-KB/s               \r/tmp/daily-min-temp 100%[===================>]  66.33K  --.-KB/s    in 0.005s  \n",
            "\n",
            "2022-03-16 02:58:06 (12.2 MB/s) - ‘/tmp/daily-min-temperatures.csv’ saved [67921/67921]\n",
            "\n"
          ]
        }
      ]
    },
    {
      "cell_type": "code",
      "metadata": {
        "id": "NcG9r1eClbTh",
        "outputId": "5dfc509e-9b5d-4c40-fed5-a832407e2265",
        "colab": {
          "base_uri": "https://localhost:8080/",
          "height": 388
        }
      },
      "source": [
        "import csv\n",
        "time_step = []\n",
        "temps = []\n",
        "\n",
        "with open('/tmp/daily-min-temperatures.csv') as csvfile:\n",
        "# YOUR CODE HERE. READ TEMPERATURES INTO TEMPS\n",
        "# HAVE TIME STEPS BE A SIMPLE ARRAY OF 1, 2, 3, 4 etc\n",
        "  reader = csv.reader(csvfile, delimiter=',')\n",
        "  next(reader)\n",
        "  count = 0\n",
        "  for row in reader:\n",
        "    temps.append(float(row[1]))\n",
        "    time_step.append(count)\n",
        "    count += 1\n",
        "    \n",
        "\n",
        "series = np.array(temps)\n",
        "time = np.array(time_step)\n",
        "plt.figure(figsize=(10, 6))\n",
        "plot_series(time, series)"
      ],
      "execution_count": 65,
      "outputs": [
        {
          "output_type": "display_data",
          "data": {
            "text/plain": [
              "<Figure size 720x432 with 1 Axes>"
            ],
            "image/png": "[encoded data removed]"
          },
          "metadata": {
            "needs_background": "light"
          }
        }
      ]
    },
    {
      "cell_type": "code",
      "metadata": {
        "id": "L92YRw_IpCFG"
      },
      "source": [
        "split_time = 2500\n",
        "time_train = time[:split_time]\n",
        "x_train = series[:split_time]\n",
        "time_valid = time[split_time:]\n",
        "x_valid = series[split_time:]\n",
        "\n",
        "window_size = 30\n",
        "batch_size = 32\n",
        "shuffle_buffer_size = 1000"
      ],
      "execution_count": 66,
      "outputs": []
    },
    {
      "cell_type": "code",
      "metadata": {
        "id": "lJwUUZscnG38"
      },
      "source": [
        "def windowed_dataset(series, window_size, batch_size, shuffle_buffer):\n",
        "    series = tf.expand_dims(series, axis=-1)\n",
        "    ds = tf.data.Dataset.from_tensor_slices(series)\n",
        "    ds = ds.window(window_size + 1, shift=1, drop_remainder=True)\n",
        "    ds = ds.flat_map(lambda w: w.batch(window_size + 1))\n",
        "    ds = ds.shuffle(shuffle_buffer_size)\n",
        "    ds = ds.map(lambda w: (w[:-1], w[1:]))\n",
        "    return ds.batch(batch_size).prefetch(1)"
      ],
      "execution_count": 67,
      "outputs": []
    },
    {
      "cell_type": "code",
      "metadata": {
        "id": "4XwGrf-A_wF0"
      },
      "source": [
        "def model_forecast(model, series, window_size):\n",
        "    ds = tf.data.Dataset.from_tensor_slices(series)\n",
        "    ds = ds.window(window_size, shift=1, drop_remainder=True)\n",
        "    ds = ds.flat_map(lambda w: w.batch(window_size))\n",
        "    ds = ds.batch(32).prefetch(1)\n",
        "    forecast = model.predict(ds)\n",
        "    return forecast"
      ],
      "execution_count": 68,
      "outputs": []
    },
    {
      "cell_type": "code",
      "metadata": {
        "id": "AclfYY3Mn6Ph",
        "outputId": "56ca581f-c102-417f-8c64-6e43fb8fcc92",
        "colab": {
          "base_uri": "https://localhost:8080/"
        }
      },
      "source": [
        "tf.keras.backend.clear_session()\n",
        "tf.random.set_seed(51)\n",
        "np.random.seed(51)\n",
        "window_size = 64\n",
        "batch_size = 256\n",
        "train_set = windowed_dataset(x_train, window_size, batch_size, shuffle_buffer_size)\n",
        "print(train_set)\n",
        "print(x_train.shape)\n",
        "\n",
        "model = tf.keras.models.Sequential([\n",
        "  tf.keras.layers.Conv1D(filters=64, kernel_size=5,\n",
        "                         strides=1, padding='causal',\n",
        "                         activation='relu'),\n",
        "  tf.keras.layers.LSTM(64, return_sequences=True),\n",
        "  tf.keras.layers.LSTM(64, return_sequences=True),\n",
        "  tf.keras.layers.Dense(30, activation='relu'),\n",
        "  tf.keras.layers.Dense(1, activation='relu'),\n",
        "  tf.keras.layers.Lambda(lambda x: x*26)\n",
        "                        \n",
        "])\n",
        "\n",
        "lr_schedule = tf.keras.callbacks.LearningRateScheduler(\n",
        "    lambda epoch: 1e-8 * 10**(epoch / 20))\n",
        "optimizer = tf.keras.optimizers.SGD(learning_rate=1e-8, momentum=0.9)\n",
        "model.compile(loss=tf.keras.losses.Huber(),\n",
        "              optimizer=optimizer,\n",
        "              metrics=[\"mae\"])\n",
        "history = model.fit(train_set, epochs=100, callbacks=[lr_schedule])\n"
      ],
      "execution_count": 22,
      "outputs": [
        {
          "output_type": "stream",
          "name": "stdout",
          "text": [
            "<PrefetchDataset element_spec=(TensorSpec(shape=(None, None, 1), dtype=tf.float64, name=None), TensorSpec(shape=(None, None, 1), dtype=tf.float64, name=None))>\n",
            "(2500,)\n",
            "Epoch 1/100\n",
            "10/10 [==============================] - 15s 30ms/step - loss: 10.3030 - mae: 10.8020 - lr: 1.0000e-08\n",
            "Epoch 2/100\n",
            "10/10 [==============================] - 1s 37ms/step - loss: 10.3030 - mae: 10.8020 - lr: 1.1220e-08\n",
            "Epoch 3/100\n",
            "10/10 [==============================] - 1s 37ms/step - loss: 10.3030 - mae: 10.8020 - lr: 1.2589e-08\n",
            "Epoch 4/100\n",
            "10/10 [==============================] - 1s 39ms/step - loss: 10.3030 - mae: 10.8020 - lr: 1.4125e-08\n",
            "Epoch 5/100\n",
            "10/10 [==============================] - 1s 40ms/step - loss: 10.3030 - mae: 10.8019 - lr: 1.5849e-08\n",
            "Epoch 6/100\n",
            "10/10 [==============================] - 1s 38ms/step - loss: 10.3030 - mae: 10.8019 - lr: 1.7783e-08\n",
            "Epoch 7/100\n",
            "10/10 [==============================] - 1s 37ms/step - loss: 10.3029 - mae: 10.8019 - lr: 1.9953e-08\n",
            "Epoch 8/100\n",
            "10/10 [==============================] - 1s 39ms/step - loss: 10.3029 - mae: 10.8019 - lr: 2.2387e-08\n",
            "Epoch 9/100\n",
            "10/10 [==============================] - 1s 40ms/step - loss: 10.3029 - mae: 10.8018 - lr: 2.5119e-08\n",
            "Epoch 10/100\n",
            "10/10 [==============================] - 1s 40ms/step - loss: 10.3028 - mae: 10.8018 - lr: 2.8184e-08\n",
            "Epoch 11/100\n",
            "10/10 [==============================] - 1s 39ms/step - loss: 10.3028 - mae: 10.8018 - lr: 3.1623e-08\n",
            "Epoch 12/100\n",
            "10/10 [==============================] - 1s 39ms/step - loss: 10.3028 - mae: 10.8017 - lr: 3.5481e-08\n",
            "Epoch 13/100\n",
            "10/10 [==============================] - 1s 77ms/step - loss: 10.3027 - mae: 10.8017 - lr: 3.9811e-08\n",
            "Epoch 14/100\n",
            "10/10 [==============================] - 1s 39ms/step - loss: 10.3027 - mae: 10.8016 - lr: 4.4668e-08\n",
            "Epoch 15/100\n",
            "10/10 [==============================] - 1s 37ms/step - loss: 10.3026 - mae: 10.8016 - lr: 5.0119e-08\n",
            "Epoch 16/100\n",
            "10/10 [==============================] - 1s 41ms/step - loss: 10.3026 - mae: 10.8015 - lr: 5.6234e-08\n",
            "Epoch 17/100\n",
            "10/10 [==============================] - 1s 39ms/step - loss: 10.3025 - mae: 10.8014 - lr: 6.3096e-08\n",
            "Epoch 18/100\n",
            "10/10 [==============================] - 1s 39ms/step - loss: 10.3024 - mae: 10.8014 - lr: 7.0795e-08\n",
            "Epoch 19/100\n",
            "10/10 [==============================] - 1s 40ms/step - loss: 10.3023 - mae: 10.8013 - lr: 7.9433e-08\n",
            "Epoch 20/100\n",
            "10/10 [==============================] - 1s 37ms/step - loss: 10.3022 - mae: 10.8012 - lr: 8.9125e-08\n",
            "Epoch 21/100\n",
            "10/10 [==============================] - 1s 37ms/step - loss: 10.3021 - mae: 10.8011 - lr: 1.0000e-07\n",
            "Epoch 22/100\n",
            "10/10 [==============================] - 1s 43ms/step - loss: 10.3020 - mae: 10.8009 - lr: 1.1220e-07\n",
            "Epoch 23/100\n",
            "10/10 [==============================] - 1s 40ms/step - loss: 10.3018 - mae: 10.8008 - lr: 1.2589e-07\n",
            "Epoch 24/100\n",
            "10/10 [==============================] - 1s 38ms/step - loss: 10.3016 - mae: 10.8006 - lr: 1.4125e-07\n",
            "Epoch 25/100\n",
            "10/10 [==============================] - 1s 39ms/step - loss: 10.3015 - mae: 10.8004 - lr: 1.5849e-07\n",
            "Epoch 26/100\n",
            "10/10 [==============================] - 1s 41ms/step - loss: 10.3012 - mae: 10.8002 - lr: 1.7783e-07\n",
            "Epoch 27/100\n",
            "10/10 [==============================] - 1s 40ms/step - loss: 10.3010 - mae: 10.8000 - lr: 1.9953e-07\n",
            "Epoch 28/100\n",
            "10/10 [==============================] - 1s 37ms/step - loss: 10.3007 - mae: 10.7997 - lr: 2.2387e-07\n",
            "Epoch 29/100\n",
            "10/10 [==============================] - 1s 40ms/step - loss: 10.3004 - mae: 10.7994 - lr: 2.5119e-07\n",
            "Epoch 30/100\n",
            "10/10 [==============================] - 1s 41ms/step - loss: 10.3001 - mae: 10.7991 - lr: 2.8184e-07\n",
            "Epoch 31/100\n",
            "10/10 [==============================] - 1s 43ms/step - loss: 10.2997 - mae: 10.7987 - lr: 3.1623e-07\n",
            "Epoch 32/100\n",
            "10/10 [==============================] - 1s 38ms/step - loss: 10.2993 - mae: 10.7982 - lr: 3.5481e-07\n",
            "Epoch 33/100\n",
            "10/10 [==============================] - 1s 38ms/step - loss: 10.2988 - mae: 10.7977 - lr: 3.9811e-07\n",
            "Epoch 34/100\n",
            "10/10 [==============================] - 1s 39ms/step - loss: 10.2982 - mae: 10.7972 - lr: 4.4668e-07\n",
            "Epoch 35/100\n",
            "10/10 [==============================] - 1s 41ms/step - loss: 10.2976 - mae: 10.7965 - lr: 5.0119e-07\n",
            "Epoch 36/100\n",
            "10/10 [==============================] - 1s 40ms/step - loss: 10.2969 - mae: 10.7958 - lr: 5.6234e-07\n",
            "Epoch 37/100\n",
            "10/10 [==============================] - 1s 40ms/step - loss: 10.2960 - mae: 10.7950 - lr: 6.3096e-07\n",
            "Epoch 38/100\n",
            "10/10 [==============================] - 1s 41ms/step - loss: 10.2951 - mae: 10.7941 - lr: 7.0795e-07\n",
            "Epoch 39/100\n",
            "10/10 [==============================] - 1s 38ms/step - loss: 10.2940 - mae: 10.7930 - lr: 7.9433e-07\n",
            "Epoch 40/100\n",
            "10/10 [==============================] - 1s 41ms/step - loss: 10.2928 - mae: 10.7917 - lr: 8.9125e-07\n",
            "Epoch 41/100\n",
            "10/10 [==============================] - 1s 39ms/step - loss: 10.2914 - mae: 10.7903 - lr: 1.0000e-06\n",
            "Epoch 42/100\n",
            "10/10 [==============================] - 1s 39ms/step - loss: 10.2897 - mae: 10.7887 - lr: 1.1220e-06\n",
            "Epoch 43/100\n",
            "10/10 [==============================] - 1s 39ms/step - loss: 10.2879 - mae: 10.7868 - lr: 1.2589e-06\n",
            "Epoch 44/100\n",
            "10/10 [==============================] - 1s 40ms/step - loss: 10.2857 - mae: 10.7846 - lr: 1.4125e-06\n",
            "Epoch 45/100\n",
            "10/10 [==============================] - 1s 41ms/step - loss: 10.2831 - mae: 10.7821 - lr: 1.5849e-06\n",
            "Epoch 46/100\n",
            "10/10 [==============================] - 1s 39ms/step - loss: 10.2801 - mae: 10.7791 - lr: 1.7783e-06\n",
            "Epoch 47/100\n",
            "10/10 [==============================] - 1s 39ms/step - loss: 10.2766 - mae: 10.7755 - lr: 1.9953e-06\n",
            "Epoch 48/100\n",
            "10/10 [==============================] - 1s 40ms/step - loss: 10.2723 - mae: 10.7713 - lr: 2.2387e-06\n",
            "Epoch 49/100\n",
            "10/10 [==============================] - 1s 40ms/step - loss: 10.2672 - mae: 10.7661 - lr: 2.5119e-06\n",
            "Epoch 50/100\n",
            "10/10 [==============================] - 1s 41ms/step - loss: 10.2609 - mae: 10.7598 - lr: 2.8184e-06\n",
            "Epoch 51/100\n",
            "10/10 [==============================] - 1s 40ms/step - loss: 10.2531 - mae: 10.7520 - lr: 3.1623e-06\n",
            "Epoch 52/100\n",
            "10/10 [==============================] - 1s 41ms/step - loss: 10.2431 - mae: 10.7421 - lr: 3.5481e-06\n",
            "Epoch 53/100\n",
            "10/10 [==============================] - 1s 40ms/step - loss: 10.2305 - mae: 10.7294 - lr: 3.9811e-06\n",
            "Epoch 54/100\n",
            "10/10 [==============================] - 1s 43ms/step - loss: 10.2138 - mae: 10.7127 - lr: 4.4668e-06\n",
            "Epoch 55/100\n",
            "10/10 [==============================] - 1s 39ms/step - loss: 10.1911 - mae: 10.6900 - lr: 5.0119e-06\n",
            "Epoch 56/100\n",
            "10/10 [==============================] - 1s 42ms/step - loss: 10.1573 - mae: 10.6562 - lr: 5.6234e-06\n",
            "Epoch 57/100\n",
            "10/10 [==============================] - 1s 38ms/step - loss: 10.0905 - mae: 10.5893 - lr: 6.3096e-06\n",
            "Epoch 58/100\n",
            "10/10 [==============================] - 1s 42ms/step - loss: 9.6268 - mae: 10.1251 - lr: 7.0795e-06\n",
            "Epoch 59/100\n",
            "10/10 [==============================] - 1s 41ms/step - loss: 6.7044 - mae: 7.1963 - lr: 7.9433e-06\n",
            "Epoch 60/100\n",
            "10/10 [==============================] - 1s 40ms/step - loss: 3.4634 - mae: 3.9353 - lr: 8.9125e-06\n",
            "Epoch 61/100\n",
            "10/10 [==============================] - 1s 43ms/step - loss: 2.6476 - mae: 3.1095 - lr: 1.0000e-05\n",
            "Epoch 62/100\n",
            "10/10 [==============================] - 1s 39ms/step - loss: 2.5303 - mae: 2.9910 - lr: 1.1220e-05\n",
            "Epoch 63/100\n",
            "10/10 [==============================] - 1s 41ms/step - loss: 2.4138 - mae: 2.8726 - lr: 1.2589e-05\n",
            "Epoch 64/100\n",
            "10/10 [==============================] - 1s 39ms/step - loss: 2.3688 - mae: 2.8275 - lr: 1.4125e-05\n",
            "Epoch 65/100\n",
            "10/10 [==============================] - 1s 41ms/step - loss: 2.3201 - mae: 2.7775 - lr: 1.5849e-05\n",
            "Epoch 66/100\n",
            "10/10 [==============================] - 1s 41ms/step - loss: 2.2751 - mae: 2.7320 - lr: 1.7783e-05\n",
            "Epoch 67/100\n",
            "10/10 [==============================] - 1s 40ms/step - loss: 2.2300 - mae: 2.6861 - lr: 1.9953e-05\n",
            "Epoch 68/100\n",
            "10/10 [==============================] - 1s 40ms/step - loss: 2.1886 - mae: 2.6437 - lr: 2.2387e-05\n",
            "Epoch 69/100\n",
            "10/10 [==============================] - 1s 39ms/step - loss: 2.1490 - mae: 2.6026 - lr: 2.5119e-05\n",
            "Epoch 70/100\n",
            "10/10 [==============================] - 1s 40ms/step - loss: 2.1158 - mae: 2.5682 - lr: 2.8184e-05\n",
            "Epoch 71/100\n",
            "10/10 [==============================] - 1s 41ms/step - loss: 2.0853 - mae: 2.5369 - lr: 3.1623e-05\n",
            "Epoch 72/100\n",
            "10/10 [==============================] - 1s 41ms/step - loss: 2.0579 - mae: 2.5095 - lr: 3.5481e-05\n",
            "Epoch 73/100\n",
            "10/10 [==============================] - 1s 39ms/step - loss: 2.0330 - mae: 2.4854 - lr: 3.9811e-05\n",
            "Epoch 74/100\n",
            "10/10 [==============================] - 1s 42ms/step - loss: 2.0103 - mae: 2.4631 - lr: 4.4668e-05\n",
            "Epoch 75/100\n",
            "10/10 [==============================] - 1s 39ms/step - loss: 1.9885 - mae: 2.4413 - lr: 5.0119e-05\n",
            "Epoch 76/100\n",
            "10/10 [==============================] - 1s 39ms/step - loss: 1.9680 - mae: 2.4209 - lr: 5.6234e-05\n",
            "Epoch 77/100\n",
            "10/10 [==============================] - 1s 41ms/step - loss: 1.9490 - mae: 2.4016 - lr: 6.3096e-05\n",
            "Epoch 78/100\n",
            "10/10 [==============================] - 1s 41ms/step - loss: 1.9297 - mae: 2.3819 - lr: 7.0795e-05\n",
            "Epoch 79/100\n",
            "10/10 [==============================] - 1s 39ms/step - loss: 1.9100 - mae: 2.3621 - lr: 7.9433e-05\n",
            "Epoch 80/100\n",
            "10/10 [==============================] - 1s 43ms/step - loss: 1.8940 - mae: 2.3461 - lr: 8.9125e-05\n",
            "Epoch 81/100\n",
            "10/10 [==============================] - 1s 42ms/step - loss: 1.8739 - mae: 2.3261 - lr: 1.0000e-04\n",
            "Epoch 82/100\n",
            "10/10 [==============================] - 1s 44ms/step - loss: 1.8562 - mae: 2.3081 - lr: 1.1220e-04\n",
            "Epoch 83/100\n",
            "10/10 [==============================] - 1s 40ms/step - loss: 1.8369 - mae: 2.2883 - lr: 1.2589e-04\n",
            "Epoch 84/100\n",
            "10/10 [==============================] - 1s 40ms/step - loss: 1.8161 - mae: 2.2671 - lr: 1.4125e-04\n",
            "Epoch 85/100\n",
            "10/10 [==============================] - 1s 41ms/step - loss: 1.7971 - mae: 2.2478 - lr: 1.5849e-04\n",
            "Epoch 86/100\n",
            "10/10 [==============================] - 1s 42ms/step - loss: 1.7791 - mae: 2.2294 - lr: 1.7783e-04\n",
            "Epoch 87/100\n",
            "10/10 [==============================] - 1s 39ms/step - loss: 1.7614 - mae: 2.2110 - lr: 1.9953e-04\n",
            "Epoch 88/100\n",
            "10/10 [==============================] - 1s 39ms/step - loss: 1.7431 - mae: 2.1921 - lr: 2.2387e-04\n",
            "Epoch 89/100\n",
            "10/10 [==============================] - 1s 41ms/step - loss: 1.7254 - mae: 2.1738 - lr: 2.5119e-04\n",
            "Epoch 90/100\n",
            "10/10 [==============================] - 1s 41ms/step - loss: 1.7093 - mae: 2.1575 - lr: 2.8184e-04\n",
            "Epoch 91/100\n",
            "10/10 [==============================] - 1s 38ms/step - loss: 1.6959 - mae: 2.1439 - lr: 3.1623e-04\n",
            "Epoch 92/100\n",
            "10/10 [==============================] - 1s 40ms/step - loss: 1.6832 - mae: 2.1310 - lr: 3.5481e-04\n",
            "Epoch 93/100\n",
            "10/10 [==============================] - 1s 40ms/step - loss: 1.6714 - mae: 2.1189 - lr: 3.9811e-04\n",
            "Epoch 94/100\n",
            "10/10 [==============================] - 1s 40ms/step - loss: 1.6663 - mae: 2.1136 - lr: 4.4668e-04\n",
            "Epoch 95/100\n",
            "10/10 [==============================] - 1s 40ms/step - loss: 1.6650 - mae: 2.1123 - lr: 5.0119e-04\n",
            "Epoch 96/100\n",
            "10/10 [==============================] - 1s 40ms/step - loss: 1.6363 - mae: 2.0823 - lr: 5.6234e-04\n",
            "Epoch 97/100\n",
            "10/10 [==============================] - 1s 42ms/step - loss: 1.6232 - mae: 2.0687 - lr: 6.3096e-04\n",
            "Epoch 98/100\n",
            "10/10 [==============================] - 1s 41ms/step - loss: 1.7478 - mae: 2.1972 - lr: 7.0795e-04\n",
            "Epoch 99/100\n",
            "10/10 [==============================] - 1s 40ms/step - loss: 1.7475 - mae: 2.1972 - lr: 7.9433e-04\n",
            "Epoch 100/100\n",
            "10/10 [==============================] - 1s 39ms/step - loss: 1.6252 - mae: 2.0708 - lr: 8.9125e-04\n"
          ]
        }
      ]
    },
    {
      "cell_type": "code",
      "metadata": {
        "id": "vVcKmg7Q_7rD",
        "outputId": "0e37d148-542d-4231-cdd8-9a435c4bef2e",
        "colab": {
          "base_uri": "https://localhost:8080/",
          "height": 291
        }
      },
      "source": [
        "plt.semilogx(history.history[\"lr\"], history.history[\"loss\"])\n",
        "plt.axis([1e-8, 1e-4, 0, 60])"
      ],
      "execution_count": 23,
      "outputs": [
        {
          "output_type": "execute_result",
          "data": {
            "text/plain": [
              "(1e-08, 0.0001, 0.0, 60.0)"
            ]
          },
          "metadata": {},
          "execution_count": 23
        },
        {
          "output_type": "display_data",
          "data": {
            "text/plain": [
              "<Figure size 432x288 with 1 Axes>"
            ],
            "image/png": "[encoded data removed]"
          },
          "metadata": {
            "needs_background": "light"
          }
        }
      ]
    },
    {
      "cell_type": "code",
      "metadata": {
        "id": "QsksvkcXAAgq",
        "outputId": "2851c75f-0ca2-4670-f2db-c23b64201bd1",
        "colab": {
          "base_uri": "https://localhost:8080/"
        }
      },
      "source": [
        "tf.keras.backend.clear_session()\n",
        "tf.random.set_seed(51)\n",
        "np.random.seed(51)\n",
        "window_size = 64\n",
        "batch_size = 256\n",
        "train_set = windowed_dataset(x_train, window_size=60, batch_size=100, shuffle_buffer=shuffle_buffer_size)\n",
        "model = tf.keras.models.Sequential([\n",
        "  tf.keras.layers.Conv1D(filters=60, kernel_size=5,\n",
        "                         strides=1, padding='causal',\n",
        "                         activation='relu', input_shape=[None,1]),\n",
        "  tf.keras.layers.Bidirectional(tf.keras.layers.LSTM(60, return_sequences=True)),\n",
        "  tf.keras.layers.Bidirectional(tf.keras.layers.LSTM(60, return_sequences=True)),\n",
        "  tf.keras.layers.Dense(30, activation='relu'),\n",
        "  tf.keras.layers.Dense(10, activation='relu'),\n",
        "  tf.keras.layers.Dense(1),\n",
        "  tf.keras.layers.Lambda(lambda x: x*30)\n",
        "])\n",
        "\n",
        "\n",
        "optimizer = tf.keras.optimizers.SGD(learning_rate=1e-4, momentum=0.9)\n",
        "model.compile(loss=tf.keras.losses.Huber(),\n",
        "              optimizer=optimizer,\n",
        "              metrics=[\"mae\"])\n",
        "history = model.fit(train_set,epochs=150)\n",
        "                                    \n",
        "# EXPECTED OUTPUT SHOULD SEE AN MAE OF <2 WITHIN ABOUT 30 EPOCHS"
      ],
      "execution_count": 72,
      "outputs": [
        {
          "output_type": "stream",
          "name": "stdout",
          "text": [
            "Epoch 1/150\n",
            "25/25 [==============================] - 9s 32ms/step - loss: 3.8976 - mae: 4.3702\n",
            "Epoch 2/150\n",
            "25/25 [==============================] - 1s 32ms/step - loss: 1.8149 - mae: 2.2651\n",
            "Epoch 3/150\n",
            "25/25 [==============================] - 1s 32ms/step - loss: 1.4834 - mae: 1.9254\n",
            "Epoch 4/150\n",
            "25/25 [==============================] - 1s 33ms/step - loss: 1.3253 - mae: 1.7614\n",
            "Epoch 5/150\n",
            "25/25 [==============================] - 1s 33ms/step - loss: 1.2375 - mae: 1.6711\n",
            "Epoch 6/150\n",
            "25/25 [==============================] - 1s 33ms/step - loss: 1.1894 - mae: 1.6223\n",
            "Epoch 7/150\n",
            "25/25 [==============================] - 1s 32ms/step - loss: 1.1462 - mae: 1.5777\n",
            "Epoch 8/150\n",
            "25/25 [==============================] - 1s 32ms/step - loss: 1.1075 - mae: 1.5367\n",
            "Epoch 9/150\n",
            "25/25 [==============================] - 1s 32ms/step - loss: 1.0748 - mae: 1.5019\n",
            "Epoch 10/150\n",
            "25/25 [==============================] - 1s 32ms/step - loss: 1.0355 - mae: 1.4596\n",
            "Epoch 11/150\n",
            "25/25 [==============================] - 1s 32ms/step - loss: 1.0009 - mae: 1.4220\n",
            "Epoch 12/150\n",
            "25/25 [==============================] - 1s 32ms/step - loss: 0.9658 - mae: 1.3848\n",
            "Epoch 13/150\n",
            "25/25 [==============================] - 1s 32ms/step - loss: 0.9367 - mae: 1.3540\n",
            "Epoch 14/150\n",
            "25/25 [==============================] - 1s 31ms/step - loss: 0.9095 - mae: 1.3256\n",
            "Epoch 15/150\n",
            "25/25 [==============================] - 1s 31ms/step - loss: 0.8867 - mae: 1.3010\n",
            "Epoch 16/150\n",
            "25/25 [==============================] - 1s 32ms/step - loss: 0.8651 - mae: 1.2780\n",
            "Epoch 17/150\n",
            "25/25 [==============================] - 1s 32ms/step - loss: 0.8726 - mae: 1.2874\n",
            "Epoch 18/150\n",
            "25/25 [==============================] - 1s 32ms/step - loss: 0.8359 - mae: 1.2471\n",
            "Epoch 19/150\n",
            "25/25 [==============================] - 1s 32ms/step - loss: 0.8222 - mae: 1.2324\n",
            "Epoch 20/150\n",
            "25/25 [==============================] - 1s 32ms/step - loss: 0.8135 - mae: 1.2238\n",
            "Epoch 21/150\n",
            "25/25 [==============================] - 1s 32ms/step - loss: 0.7920 - mae: 1.2002\n",
            "Epoch 22/150\n",
            "25/25 [==============================] - 1s 31ms/step - loss: 0.8053 - mae: 1.2152\n",
            "Epoch 23/150\n",
            "25/25 [==============================] - 1s 32ms/step - loss: 0.8025 - mae: 1.2130\n",
            "Epoch 24/150\n",
            "25/25 [==============================] - 1s 32ms/step - loss: 0.7555 - mae: 1.1614\n",
            "Epoch 25/150\n",
            "25/25 [==============================] - 1s 33ms/step - loss: 0.7599 - mae: 1.1671\n",
            "Epoch 26/150\n",
            "25/25 [==============================] - 1s 32ms/step - loss: 0.7409 - mae: 1.1460\n",
            "Epoch 27/150\n",
            "25/25 [==============================] - 1s 31ms/step - loss: 0.7274 - mae: 1.1307\n",
            "Epoch 28/150\n",
            "25/25 [==============================] - 1s 32ms/step - loss: 0.7511 - mae: 1.1574\n",
            "Epoch 29/150\n",
            "25/25 [==============================] - 1s 31ms/step - loss: 0.7302 - mae: 1.1351\n",
            "Epoch 30/150\n",
            "25/25 [==============================] - 1s 31ms/step - loss: 0.7079 - mae: 1.1104\n",
            "Epoch 31/150\n",
            "25/25 [==============================] - 1s 32ms/step - loss: 0.6792 - mae: 1.0781\n",
            "Epoch 32/150\n",
            "25/25 [==============================] - 1s 32ms/step - loss: 0.6790 - mae: 1.0776\n",
            "Epoch 33/150\n",
            "25/25 [==============================] - 1s 32ms/step - loss: 0.6903 - mae: 1.0913\n",
            "Epoch 34/150\n",
            "25/25 [==============================] - 1s 32ms/step - loss: 0.6554 - mae: 1.0522\n",
            "Epoch 35/150\n",
            "25/25 [==============================] - 1s 31ms/step - loss: 0.6693 - mae: 1.0683\n",
            "Epoch 36/150\n",
            "25/25 [==============================] - 1s 31ms/step - loss: 0.6119 - mae: 1.0037\n",
            "Epoch 37/150\n",
            "25/25 [==============================] - 1s 32ms/step - loss: 0.6739 - mae: 1.0749\n",
            "Epoch 38/150\n",
            "25/25 [==============================] - 1s 32ms/step - loss: 0.6311 - mae: 1.0261\n",
            "Epoch 39/150\n",
            "25/25 [==============================] - 1s 31ms/step - loss: 0.6133 - mae: 1.0067\n",
            "Epoch 40/150\n",
            "25/25 [==============================] - 1s 33ms/step - loss: 0.6328 - mae: 1.0302\n",
            "Epoch 41/150\n",
            "25/25 [==============================] - 1s 33ms/step - loss: 0.5932 - mae: 0.9842\n",
            "Epoch 42/150\n",
            "25/25 [==============================] - 1s 32ms/step - loss: 0.5905 - mae: 0.9815\n",
            "Epoch 43/150\n",
            "25/25 [==============================] - 1s 31ms/step - loss: 0.5961 - mae: 0.9892\n",
            "Epoch 44/150\n",
            "25/25 [==============================] - 1s 32ms/step - loss: 0.5743 - mae: 0.9639\n",
            "Epoch 45/150\n",
            "25/25 [==============================] - 1s 32ms/step - loss: 0.5826 - mae: 0.9742\n",
            "Epoch 46/150\n",
            "25/25 [==============================] - 1s 31ms/step - loss: 0.5745 - mae: 0.9658\n",
            "Epoch 47/150\n",
            "25/25 [==============================] - 1s 32ms/step - loss: 0.5166 - mae: 0.8966\n",
            "Epoch 48/150\n",
            "25/25 [==============================] - 1s 32ms/step - loss: 0.5608 - mae: 0.9512\n",
            "Epoch 49/150\n",
            "25/25 [==============================] - 1s 33ms/step - loss: 0.5432 - mae: 0.9302\n",
            "Epoch 50/150\n",
            "25/25 [==============================] - 1s 31ms/step - loss: 0.5080 - mae: 0.8873\n",
            "Epoch 51/150\n",
            "25/25 [==============================] - 1s 32ms/step - loss: 0.5427 - mae: 0.9308\n",
            "Epoch 52/150\n",
            "25/25 [==============================] - 1s 31ms/step - loss: 0.5280 - mae: 0.9135\n",
            "Epoch 53/150\n",
            "25/25 [==============================] - 1s 32ms/step - loss: 0.5139 - mae: 0.8978\n",
            "Epoch 54/150\n",
            "25/25 [==============================] - 1s 31ms/step - loss: 0.4679 - mae: 0.8425\n",
            "Epoch 55/150\n",
            "25/25 [==============================] - 1s 31ms/step - loss: 0.5052 - mae: 0.8871\n",
            "Epoch 56/150\n",
            "25/25 [==============================] - 1s 32ms/step - loss: 0.4712 - mae: 0.8471\n",
            "Epoch 57/150\n",
            "25/25 [==============================] - 1s 32ms/step - loss: 0.4817 - mae: 0.8599\n",
            "Epoch 58/150\n",
            "25/25 [==============================] - 1s 31ms/step - loss: 0.4529 - mae: 0.8251\n",
            "Epoch 59/150\n",
            "25/25 [==============================] - 1s 30ms/step - loss: 0.4682 - mae: 0.8464\n",
            "Epoch 60/150\n",
            "25/25 [==============================] - 1s 32ms/step - loss: 0.4700 - mae: 0.8491\n",
            "Epoch 61/150\n",
            "25/25 [==============================] - 1s 32ms/step - loss: 0.3957 - mae: 0.7561\n",
            "Epoch 62/150\n",
            "25/25 [==============================] - 1s 33ms/step - loss: 0.4692 - mae: 0.8481\n",
            "Epoch 63/150\n",
            "25/25 [==============================] - 1s 32ms/step - loss: 0.4024 - mae: 0.7654\n",
            "Epoch 64/150\n",
            "25/25 [==============================] - 1s 31ms/step - loss: 0.4676 - mae: 0.8499\n",
            "Epoch 65/150\n",
            "25/25 [==============================] - 1s 31ms/step - loss: 0.4225 - mae: 0.7915\n",
            "Epoch 66/150\n",
            "25/25 [==============================] - 1s 32ms/step - loss: 0.4105 - mae: 0.7793\n",
            "Epoch 67/150\n",
            "25/25 [==============================] - 1s 31ms/step - loss: 0.3940 - mae: 0.7580\n",
            "Epoch 68/150\n",
            "25/25 [==============================] - 1s 31ms/step - loss: 0.3949 - mae: 0.7586\n",
            "Epoch 69/150\n",
            "25/25 [==============================] - 1s 31ms/step - loss: 0.3992 - mae: 0.7639\n",
            "Epoch 70/150\n",
            "25/25 [==============================] - 1s 31ms/step - loss: 0.3732 - mae: 0.7311\n",
            "Epoch 71/150\n",
            "25/25 [==============================] - 1s 32ms/step - loss: 0.3546 - mae: 0.7070\n",
            "Epoch 72/150\n",
            "25/25 [==============================] - 1s 32ms/step - loss: 0.4046 - mae: 0.7761\n",
            "Epoch 73/150\n",
            "25/25 [==============================] - 1s 31ms/step - loss: 0.3725 - mae: 0.7348\n",
            "Epoch 74/150\n",
            "25/25 [==============================] - 1s 31ms/step - loss: 0.3694 - mae: 0.7289\n",
            "Epoch 75/150\n",
            "25/25 [==============================] - 1s 31ms/step - loss: 0.3268 - mae: 0.6726\n",
            "Epoch 76/150\n",
            "25/25 [==============================] - 1s 33ms/step - loss: 0.3607 - mae: 0.7215\n",
            "Epoch 77/150\n",
            "25/25 [==============================] - 1s 33ms/step - loss: 0.3454 - mae: 0.6996\n",
            "Epoch 78/150\n",
            "25/25 [==============================] - 1s 33ms/step - loss: 0.3209 - mae: 0.6687\n",
            "Epoch 79/150\n",
            "25/25 [==============================] - 1s 32ms/step - loss: 0.3519 - mae: 0.7096\n",
            "Epoch 80/150\n",
            "25/25 [==============================] - 1s 32ms/step - loss: 0.3280 - mae: 0.6807\n",
            "Epoch 81/150\n",
            "25/25 [==============================] - 1s 32ms/step - loss: 0.3004 - mae: 0.6384\n",
            "Epoch 82/150\n",
            "25/25 [==============================] - 1s 31ms/step - loss: 0.3451 - mae: 0.7060\n",
            "Epoch 83/150\n",
            "25/25 [==============================] - 1s 32ms/step - loss: 0.3113 - mae: 0.6579\n",
            "Epoch 84/150\n",
            "25/25 [==============================] - 1s 31ms/step - loss: 0.2949 - mae: 0.6340\n",
            "Epoch 85/150\n",
            "25/25 [==============================] - 1s 33ms/step - loss: 0.3019 - mae: 0.6467\n",
            "Epoch 86/150\n",
            "25/25 [==============================] - 1s 33ms/step - loss: 0.3016 - mae: 0.6503\n",
            "Epoch 87/150\n",
            "25/25 [==============================] - 1s 32ms/step - loss: 0.2888 - mae: 0.6298\n",
            "Epoch 88/150\n",
            "25/25 [==============================] - 1s 32ms/step - loss: 0.2898 - mae: 0.6341\n",
            "Epoch 89/150\n",
            "25/25 [==============================] - 1s 31ms/step - loss: 0.2745 - mae: 0.6107\n",
            "Epoch 90/150\n",
            "25/25 [==============================] - 1s 31ms/step - loss: 0.2536 - mae: 0.5780\n",
            "Epoch 91/150\n",
            "25/25 [==============================] - 1s 32ms/step - loss: 0.2739 - mae: 0.6107\n",
            "Epoch 92/150\n",
            "25/25 [==============================] - 1s 32ms/step - loss: 0.2302 - mae: 0.5391\n",
            "Epoch 93/150\n",
            "25/25 [==============================] - 1s 33ms/step - loss: 0.2691 - mae: 0.6037\n",
            "Epoch 94/150\n",
            "25/25 [==============================] - 1s 33ms/step - loss: 0.2871 - mae: 0.6300\n",
            "Epoch 95/150\n",
            "25/25 [==============================] - 1s 33ms/step - loss: 0.2468 - mae: 0.5689\n",
            "Epoch 96/150\n",
            "25/25 [==============================] - 1s 31ms/step - loss: 0.2271 - mae: 0.5407\n",
            "Epoch 97/150\n",
            "25/25 [==============================] - 1s 31ms/step - loss: 0.2891 - mae: 0.6444\n",
            "Epoch 98/150\n",
            "25/25 [==============================] - 1s 32ms/step - loss: 0.2186 - mae: 0.5284\n",
            "Epoch 99/150\n",
            "25/25 [==============================] - 1s 32ms/step - loss: 0.2290 - mae: 0.5481\n",
            "Epoch 100/150\n",
            "25/25 [==============================] - 1s 31ms/step - loss: 0.2587 - mae: 0.5850\n",
            "Epoch 101/150\n",
            "25/25 [==============================] - 1s 31ms/step - loss: 0.2843 - mae: 0.6307\n",
            "Epoch 102/150\n",
            "25/25 [==============================] - 1s 31ms/step - loss: 0.2449 - mae: 0.5725\n",
            "Epoch 103/150\n",
            "25/25 [==============================] - 1s 31ms/step - loss: 0.1619 - mae: 0.4334\n",
            "Epoch 104/150\n",
            "25/25 [==============================] - 1s 33ms/step - loss: 0.2160 - mae: 0.5329\n",
            "Epoch 105/150\n",
            "25/25 [==============================] - 1s 31ms/step - loss: 0.2115 - mae: 0.5291\n",
            "Epoch 106/150\n",
            "25/25 [==============================] - 1s 31ms/step - loss: 0.2047 - mae: 0.5184\n",
            "Epoch 107/150\n",
            "25/25 [==============================] - 1s 32ms/step - loss: 0.1949 - mae: 0.5021\n",
            "Epoch 108/150\n",
            "25/25 [==============================] - 1s 33ms/step - loss: 0.1541 - mae: 0.4215\n",
            "Epoch 109/150\n",
            "25/25 [==============================] - 1s 32ms/step - loss: 0.2639 - mae: 0.6097\n",
            "Epoch 110/150\n",
            "25/25 [==============================] - 1s 32ms/step - loss: 0.1867 - mae: 0.4874\n",
            "Epoch 111/150\n",
            "25/25 [==============================] - 1s 33ms/step - loss: 0.1691 - mae: 0.4548\n",
            "Epoch 112/150\n",
            "25/25 [==============================] - 1s 33ms/step - loss: 0.1960 - mae: 0.5052\n",
            "Epoch 113/150\n",
            "25/25 [==============================] - 1s 33ms/step - loss: 0.1837 - mae: 0.4839\n",
            "Epoch 114/150\n",
            "25/25 [==============================] - 1s 32ms/step - loss: 0.2123 - mae: 0.5309\n",
            "Epoch 115/150\n",
            "25/25 [==============================] - 1s 30ms/step - loss: 0.1705 - mae: 0.4644\n",
            "Epoch 116/150\n",
            "25/25 [==============================] - 1s 32ms/step - loss: 0.1862 - mae: 0.4903\n",
            "Epoch 117/150\n",
            "25/25 [==============================] - 1s 32ms/step - loss: 0.1574 - mae: 0.4392\n",
            "Epoch 118/150\n",
            "25/25 [==============================] - 1s 32ms/step - loss: 0.1718 - mae: 0.4625\n",
            "Epoch 119/150\n",
            "25/25 [==============================] - 1s 32ms/step - loss: 0.1670 - mae: 0.4557\n",
            "Epoch 120/150\n",
            "25/25 [==============================] - 1s 34ms/step - loss: 0.1559 - mae: 0.4361\n",
            "Epoch 121/150\n",
            "25/25 [==============================] - 1s 32ms/step - loss: 0.1433 - mae: 0.4059\n",
            "Epoch 122/150\n",
            "25/25 [==============================] - 1s 32ms/step - loss: 0.1947 - mae: 0.5150\n",
            "Epoch 123/150\n",
            "25/25 [==============================] - 1s 33ms/step - loss: 0.1545 - mae: 0.4347\n",
            "Epoch 124/150\n",
            "25/25 [==============================] - 1s 32ms/step - loss: 0.1851 - mae: 0.4890\n",
            "Epoch 125/150\n",
            "25/25 [==============================] - 1s 32ms/step - loss: 0.1849 - mae: 0.4919\n",
            "Epoch 126/150\n",
            "25/25 [==============================] - 1s 32ms/step - loss: 0.1270 - mae: 0.3792\n",
            "Epoch 127/150\n",
            "25/25 [==============================] - 1s 32ms/step - loss: 0.1072 - mae: 0.3313\n",
            "Epoch 128/150\n",
            "25/25 [==============================] - 1s 32ms/step - loss: 0.1546 - mae: 0.4415\n",
            "Epoch 129/150\n",
            "25/25 [==============================] - 1s 32ms/step - loss: 0.0974 - mae: 0.3054\n",
            "Epoch 130/150\n",
            "25/25 [==============================] - 1s 32ms/step - loss: 0.1654 - mae: 0.4622\n",
            "Epoch 131/150\n",
            "25/25 [==============================] - 1s 31ms/step - loss: 0.1059 - mae: 0.3295\n",
            "Epoch 132/150\n",
            "25/25 [==============================] - 1s 32ms/step - loss: 0.1672 - mae: 0.4527\n",
            "Epoch 133/150\n",
            "25/25 [==============================] - 1s 32ms/step - loss: 0.1835 - mae: 0.4985\n",
            "Epoch 134/150\n",
            "25/25 [==============================] - 1s 33ms/step - loss: 0.1321 - mae: 0.3931\n",
            "Epoch 135/150\n",
            "25/25 [==============================] - 1s 32ms/step - loss: 0.0940 - mae: 0.3000\n",
            "Epoch 136/150\n",
            "25/25 [==============================] - 1s 34ms/step - loss: 0.1426 - mae: 0.4134\n",
            "Epoch 137/150\n",
            "25/25 [==============================] - 1s 33ms/step - loss: 0.1065 - mae: 0.3391\n",
            "Epoch 138/150\n",
            "25/25 [==============================] - 1s 33ms/step - loss: 0.1329 - mae: 0.3973\n",
            "Epoch 139/150\n",
            "25/25 [==============================] - 1s 33ms/step - loss: 0.1215 - mae: 0.3726\n",
            "Epoch 140/150\n",
            "25/25 [==============================] - 1s 32ms/step - loss: 0.1003 - mae: 0.3207\n",
            "Epoch 141/150\n",
            "25/25 [==============================] - 1s 33ms/step - loss: 0.1237 - mae: 0.3868\n",
            "Epoch 142/150\n",
            "25/25 [==============================] - 1s 34ms/step - loss: 0.0923 - mae: 0.3007\n",
            "Epoch 143/150\n",
            "25/25 [==============================] - 1s 32ms/step - loss: 0.0810 - mae: 0.2657\n",
            "Epoch 144/150\n",
            "25/25 [==============================] - 1s 31ms/step - loss: 0.1608 - mae: 0.4655\n",
            "Epoch 145/150\n",
            "25/25 [==============================] - 1s 33ms/step - loss: 0.1121 - mae: 0.3526\n",
            "Epoch 146/150\n",
            "25/25 [==============================] - 1s 32ms/step - loss: 0.1153 - mae: 0.3552\n",
            "Epoch 147/150\n",
            "25/25 [==============================] - 1s 32ms/step - loss: 0.1163 - mae: 0.3671\n",
            "Epoch 148/150\n",
            "25/25 [==============================] - 1s 32ms/step - loss: 0.1111 - mae: 0.3558\n",
            "Epoch 149/150\n",
            "25/25 [==============================] - 1s 32ms/step - loss: 0.1023 - mae: 0.3349\n",
            "Epoch 150/150\n",
            "25/25 [==============================] - 1s 31ms/step - loss: 0.1095 - mae: 0.3490\n"
          ]
        }
      ]
    },
    {
      "cell_type": "code",
      "metadata": {
        "id": "GaC6NNMRp0lb"
      },
      "source": [
        "rnn_forecast = model_forecast(model, series[..., np.newaxis], window_size)\n",
        "rnn_forecast = rnn_forecast[split_time - window_size:-1, -1, 0]"
      ],
      "execution_count": 73,
      "outputs": []
    },
    {
      "cell_type": "code",
      "metadata": {
        "id": "izy6wl2S9d-2",
        "outputId": "34ccbcd1-01cc-49f9-da5f-a44777069c50",
        "colab": {
          "base_uri": "https://localhost:8080/",
          "height": 389
        }
      },
      "source": [
        "plt.figure(figsize=(10, 6))\n",
        "plot_series(time_valid, x_valid)\n",
        "plot_series(time_valid, rnn_forecast)\n",
        "\n",
        "# EXPECTED OUTPUT. PLOT SHOULD SHOW PROJECTIONS FOLLOWING ORIGINAL DATA CLOSELY"
      ],
      "execution_count": 74,
      "outputs": [
        {
          "output_type": "display_data",
          "data": {
            "text/plain": [
              "<Figure size 720x432 with 1 Axes>"
            ],
            "image/png": "[encoded data removed]"
          },
          "metadata": {
            "needs_background": "light"
          }
        }
      ]
    },
    {
      "cell_type": "code",
      "metadata": {
        "id": "13XrorC5wQoE",
        "outputId": "b64677a4-033b-4b2a-d82a-4af482723372",
        "colab": {
          "base_uri": "https://localhost:8080/"
        }
      },
      "source": [
        "tf.keras.metrics.mean_absolute_error(x_valid, rnn_forecast).numpy()\n",
        "\n",
        "# EXPECTED OUTPUT MAE < 2 -- I GOT 1.789626"
      ],
      "execution_count": 75,
      "outputs": [
        {
          "output_type": "execute_result",
          "data": {
            "text/plain": [
              "1.8463676"
            ]
          },
          "metadata": {},
          "execution_count": 75
        }
      ]
    },
    {
      "cell_type": "code",
      "metadata": {
        "id": "AOVzQXxCwkzP",
        "outputId": "090d548a-1926-4043-d4b4-d94a5dd731b9",
        "colab": {
          "base_uri": "https://localhost:8080/"
        }
      },
      "source": [
        "print(rnn_forecast)\n",
        "# EXPECTED OUTPUT -- ARRAY OF VALUES IN THE LOW TEENS"
      ],
      "execution_count": 76,
      "outputs": [
        {
          "output_type": "stream",
          "name": "stdout",
          "text": [
            "[11.800046 11.401167 12.746755 ... 13.325173 13.268991 14.423267]\n"
          ]
        }
      ]
    }
  ]
}