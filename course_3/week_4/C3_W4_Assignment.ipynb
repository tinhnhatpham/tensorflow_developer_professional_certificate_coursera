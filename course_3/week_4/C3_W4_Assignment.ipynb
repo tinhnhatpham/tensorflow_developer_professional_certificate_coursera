{
  "nbformat": 4,
  "nbformat_minor": 0,
  "metadata": {
    "accelerator": "GPU",
    "colab": {
      "name": "C3_W4_Assignment.ipynb",
      "provenance": []
    },
    "kernelspec": {
      "display_name": "Python 3",
      "language": "python",
      "name": "python3"
    },
    "language_info": {
      "codemirror_mode": {
        "name": "ipython",
        "version": 3
      },
      "file_extension": ".py",
      "mimetype": "text/x-python",
      "name": "python",
      "nbconvert_exporter": "python",
      "pygments_lexer": "ipython3",
      "version": "3.8.5"
    }
  },
  "cells": [
    {
      "cell_type": "code",
      "metadata": {
        "id": "T2XpcPvbXalN"
      },
      "source": [
        "#@title Licensed under the Apache License, Version 2.0 (the \"License\");\n",
        "# you may not use this file except in compliance with the License.\n",
        "# You may obtain a copy of the License at\n",
        "#\n",
        "# https://www.apache.org/licenses/LICENSE-2.0\n",
        "#\n",
        "# Unless required by applicable law or agreed to in writing, software\n",
        "# distributed under the License is distributed on an \"AS IS\" BASIS,\n",
        "# WITHOUT WARRANTIES OR CONDITIONS OF ANY KIND, either express or implied.\n",
        "# See the License for the specific language governing permissions and\n",
        "# limitations under the License."
      ],
      "execution_count": 22,
      "outputs": []
    },
    {
      "cell_type": "markdown",
      "metadata": {
        "id": "eK88h3Y5XalO"
      },
      "source": [
        "**Note:** This notebook can run using TensorFlow 2.5.0"
      ]
    },
    {
      "cell_type": "code",
      "metadata": {
        "id": "zX4Kg8DUTKWO"
      },
      "source": [
        "#!pip install tensorflow==2.5.0"
      ],
      "execution_count": 23,
      "outputs": []
    },
    {
      "cell_type": "code",
      "metadata": {
        "id": "BOwsuGQQY9OL"
      },
      "source": [
        "from tensorflow.keras.preprocessing.sequence import pad_sequences\n",
        "from tensorflow.keras.layers import Embedding, LSTM, Dense, Dropout, Bidirectional\n",
        "from tensorflow.keras.preprocessing.text import Tokenizer\n",
        "from tensorflow.keras.models import Sequential\n",
        "from tensorflow.keras.optimizers import Adam\n",
        "### YOUR CODE HERE\n",
        "from tensorflow.keras import regularizers\n",
        "###\n",
        "import tensorflow.keras.utils as ku \n",
        "import numpy as np "
      ],
      "execution_count": 24,
      "outputs": []
    },
    {
      "cell_type": "code",
      "metadata": {
        "id": "PRnDnCW-Z7qv",
        "outputId": "3bff637f-afe3-48df-ed65-7d5052a6d169",
        "colab": {
          "base_uri": "https://localhost:8080/"
        }
      },
      "source": [
        "tokenizer = Tokenizer()\n",
        "\n",
        "# sonnets.txt\n",
        "!gdown --id 108jAePKK4R3BVYBbYJZ32JWUwxeMg20K\n",
        "\n",
        "data = open('./sonnets.txt').read()\n",
        "\n",
        "corpus = data.lower().split(\"\\n\")\n",
        "\n",
        "\n",
        "tokenizer.fit_on_texts(corpus)\n",
        "total_words = len(tokenizer.word_index) + 1\n",
        "\n",
        "# create input sequences using list of tokens\n",
        "input_sequences = []\n",
        "for line in corpus:\n",
        "\ttoken_list = tokenizer.texts_to_sequences([line])[0]\n",
        "\tfor i in range(1, len(token_list)):\n",
        "\t\tn_gram_sequence = token_list[:i+1]\n",
        "\t\tinput_sequences.append(n_gram_sequence)\n",
        "\n",
        "\n",
        "# pad sequences \n",
        "max_sequence_len = max([len(x) for x in input_sequences])\n",
        "input_sequences = np.array(pad_sequences(input_sequences, maxlen=max_sequence_len, padding='pre'))\n",
        "\n",
        "# create predictors and label\n",
        "predictors, label = input_sequences[:,:-1],input_sequences[:,-1]\n",
        "\n",
        "label = ku.to_categorical(label, num_classes=total_words)"
      ],
      "execution_count": 25,
      "outputs": [
        {
          "output_type": "stream",
          "name": "stdout",
          "text": [
            "Downloading...\n",
            "From: https://drive.google.com/uc?id=108jAePKK4R3BVYBbYJZ32JWUwxeMg20K\n",
            "To: /content/sonnets.txt\n",
            "\r  0% 0.00/93.6k [00:00<?, ?B/s]\r100% 93.6k/93.6k [00:00<00:00, 75.1MB/s]\n"
          ]
        }
      ]
    },
    {
      "cell_type": "code",
      "metadata": {
        "id": "w9vH8Y59ajYL",
        "outputId": "6778a6e6-4f25-45a6-ec7c-b19dab2c012d",
        "colab": {
          "base_uri": "https://localhost:8080/"
        }
      },
      "source": [
        "### START CODE HERE\n",
        "model = Sequential()\n",
        "model.add(Embedding(total_words, 100, input_length=max_sequence_len - 1))\n",
        "model.add(Bidirectional(LSTM(150, return_sequences=True)))\n",
        "model.add(Dropout(0.2))\n",
        "model.add(LSTM(100))\n",
        "model.add(Dense(128, kernel_regularizer=regularizers.l2(0.01), activation='relu'))\n",
        "model.add(Dense(total_words, activation='softmax'))\n",
        "# Pick an optimizer\n",
        "model.compile(optimizer='adam', loss='categorical_crossentropy', metrics=['accuracy'])\n",
        "### END CODE HERE\n",
        "    \n",
        "print(model.summary())"
      ],
      "execution_count": 28,
      "outputs": [
        {
          "output_type": "stream",
          "name": "stdout",
          "text": [
            "Model: \"sequential_10\"\n",
            "_________________________________________________________________\n",
            " Layer (type)                Output Shape              Param #   \n",
            "=================================================================\n",
            " embedding_10 (Embedding)    (None, 10, 100)           321100    \n",
            "                                                                 \n",
            " bidirectional_20 (Bidirecti  (None, 10, 300)          301200    \n",
            " onal)                                                           \n",
            "                                                                 \n",
            " dropout_10 (Dropout)        (None, 10, 300)           0         \n",
            "                                                                 \n",
            " lstm_21 (LSTM)              (None, 100)               160400    \n",
            "                                                                 \n",
            " dense_15 (Dense)            (None, 128)               12928     \n",
            "                                                                 \n",
            " dense_16 (Dense)            (None, 3211)              414219    \n",
            "                                                                 \n",
            "=================================================================\n",
            "Total params: 1,209,847\n",
            "Trainable params: 1,209,847\n",
            "Non-trainable params: 0\n",
            "_________________________________________________________________\n",
            "None\n"
          ]
        }
      ]
    },
    {
      "cell_type": "code",
      "metadata": {
        "id": "AIg2f1HBxqof",
        "outputId": "49175b71-6032-43ca-d583-f0348876ae28",
        "colab": {
          "base_uri": "https://localhost:8080/"
        }
      },
      "source": [
        " history = model.fit(predictors, label, epochs=100, verbose=1)"
      ],
      "execution_count": 29,
      "outputs": [
        {
          "output_type": "stream",
          "name": "stdout",
          "text": [
            "Epoch 1/100\n",
            "484/484 [==============================] - 20s 22ms/step - loss: 7.0493 - accuracy: 0.0232\n",
            "Epoch 2/100\n",
            "484/484 [==============================] - 11s 22ms/step - loss: 6.5111 - accuracy: 0.0211\n",
            "Epoch 3/100\n",
            "484/484 [==============================] - 11s 22ms/step - loss: 6.4169 - accuracy: 0.0254\n",
            "Epoch 4/100\n",
            "484/484 [==============================] - 11s 22ms/step - loss: 6.3348 - accuracy: 0.0295\n",
            "Epoch 5/100\n",
            "484/484 [==============================] - 11s 22ms/step - loss: 6.2650 - accuracy: 0.0351\n",
            "Epoch 6/100\n",
            "484/484 [==============================] - 11s 22ms/step - loss: 6.2108 - accuracy: 0.0358\n",
            "Epoch 7/100\n",
            "484/484 [==============================] - 11s 22ms/step - loss: 6.1553 - accuracy: 0.0374\n",
            "Epoch 8/100\n",
            "484/484 [==============================] - 11s 22ms/step - loss: 6.0912 - accuracy: 0.0407\n",
            "Epoch 9/100\n",
            "484/484 [==============================] - 11s 22ms/step - loss: 6.0197 - accuracy: 0.0440\n",
            "Epoch 10/100\n",
            "484/484 [==============================] - 11s 22ms/step - loss: 5.9548 - accuracy: 0.0449\n",
            "Epoch 11/100\n",
            "484/484 [==============================] - 11s 22ms/step - loss: 5.8883 - accuracy: 0.0466\n",
            "Epoch 12/100\n",
            "484/484 [==============================] - 11s 22ms/step - loss: 5.8271 - accuracy: 0.0497\n",
            "Epoch 13/100\n",
            "484/484 [==============================] - 11s 22ms/step - loss: 5.7677 - accuracy: 0.0531\n",
            "Epoch 14/100\n",
            "484/484 [==============================] - 11s 22ms/step - loss: 5.7102 - accuracy: 0.0574\n",
            "Epoch 15/100\n",
            "484/484 [==============================] - 11s 22ms/step - loss: 5.6477 - accuracy: 0.0606\n",
            "Epoch 16/100\n",
            "484/484 [==============================] - 11s 22ms/step - loss: 5.5909 - accuracy: 0.0632\n",
            "Epoch 17/100\n",
            "484/484 [==============================] - 11s 22ms/step - loss: 5.5426 - accuracy: 0.0651\n",
            "Epoch 18/100\n",
            "484/484 [==============================] - 11s 22ms/step - loss: 5.4905 - accuracy: 0.0688\n",
            "Epoch 19/100\n",
            "484/484 [==============================] - 11s 22ms/step - loss: 5.4328 - accuracy: 0.0712\n",
            "Epoch 20/100\n",
            "484/484 [==============================] - 11s 22ms/step - loss: 5.3865 - accuracy: 0.0740\n",
            "Epoch 21/100\n",
            "484/484 [==============================] - 11s 22ms/step - loss: 5.3389 - accuracy: 0.0770\n",
            "Epoch 22/100\n",
            "484/484 [==============================] - 11s 22ms/step - loss: 5.2813 - accuracy: 0.0805\n",
            "Epoch 23/100\n",
            "484/484 [==============================] - 11s 22ms/step - loss: 5.2326 - accuracy: 0.0818\n",
            "Epoch 24/100\n",
            "484/484 [==============================] - 11s 22ms/step - loss: 5.1848 - accuracy: 0.0852\n",
            "Epoch 25/100\n",
            "484/484 [==============================] - 11s 22ms/step - loss: 5.1364 - accuracy: 0.0883\n",
            "Epoch 26/100\n",
            "484/484 [==============================] - 11s 22ms/step - loss: 5.0820 - accuracy: 0.0901\n",
            "Epoch 27/100\n",
            "484/484 [==============================] - 11s 22ms/step - loss: 5.0330 - accuracy: 0.0893\n",
            "Epoch 28/100\n",
            "484/484 [==============================] - 11s 22ms/step - loss: 4.9888 - accuracy: 0.0946\n",
            "Epoch 29/100\n",
            "484/484 [==============================] - 11s 22ms/step - loss: 4.9358 - accuracy: 0.1001\n",
            "Epoch 30/100\n",
            "484/484 [==============================] - 11s 22ms/step - loss: 4.8893 - accuracy: 0.1010\n",
            "Epoch 31/100\n",
            "484/484 [==============================] - 11s 22ms/step - loss: 4.8444 - accuracy: 0.1041\n",
            "Epoch 32/100\n",
            "484/484 [==============================] - 11s 22ms/step - loss: 4.7943 - accuracy: 0.1095\n",
            "Epoch 33/100\n",
            "484/484 [==============================] - 11s 22ms/step - loss: 4.7521 - accuracy: 0.1155\n",
            "Epoch 34/100\n",
            "484/484 [==============================] - 11s 22ms/step - loss: 4.7049 - accuracy: 0.1148\n",
            "Epoch 35/100\n",
            "484/484 [==============================] - 11s 22ms/step - loss: 4.6553 - accuracy: 0.1204\n",
            "Epoch 36/100\n",
            "484/484 [==============================] - 11s 22ms/step - loss: 4.6087 - accuracy: 0.1264\n",
            "Epoch 37/100\n",
            "484/484 [==============================] - 11s 22ms/step - loss: 4.5748 - accuracy: 0.1322\n",
            "Epoch 38/100\n",
            "484/484 [==============================] - 11s 22ms/step - loss: 4.5299 - accuracy: 0.1325\n",
            "Epoch 39/100\n",
            "484/484 [==============================] - 11s 22ms/step - loss: 4.4912 - accuracy: 0.1381\n",
            "Epoch 40/100\n",
            "484/484 [==============================] - 11s 22ms/step - loss: 4.4382 - accuracy: 0.1439\n",
            "Epoch 41/100\n",
            "484/484 [==============================] - 11s 22ms/step - loss: 4.4129 - accuracy: 0.1475\n",
            "Epoch 42/100\n",
            "484/484 [==============================] - 11s 22ms/step - loss: 4.3599 - accuracy: 0.1517\n",
            "Epoch 43/100\n",
            "484/484 [==============================] - 11s 22ms/step - loss: 4.3184 - accuracy: 0.1577\n",
            "Epoch 44/100\n",
            "484/484 [==============================] - 11s 22ms/step - loss: 4.2800 - accuracy: 0.1624\n",
            "Epoch 45/100\n",
            "484/484 [==============================] - 11s 22ms/step - loss: 4.2439 - accuracy: 0.1656\n",
            "Epoch 46/100\n",
            "484/484 [==============================] - 11s 22ms/step - loss: 4.2100 - accuracy: 0.1738\n",
            "Epoch 47/100\n",
            "484/484 [==============================] - 11s 22ms/step - loss: 4.1634 - accuracy: 0.1789\n",
            "Epoch 48/100\n",
            "484/484 [==============================] - 11s 22ms/step - loss: 4.1319 - accuracy: 0.1824\n",
            "Epoch 49/100\n",
            "484/484 [==============================] - 11s 22ms/step - loss: 4.1040 - accuracy: 0.1840\n",
            "Epoch 50/100\n",
            "484/484 [==============================] - 11s 22ms/step - loss: 4.0560 - accuracy: 0.1962\n",
            "Epoch 51/100\n",
            "484/484 [==============================] - 11s 22ms/step - loss: 4.0234 - accuracy: 0.1980\n",
            "Epoch 52/100\n",
            "484/484 [==============================] - 11s 22ms/step - loss: 3.9976 - accuracy: 0.2005\n",
            "Epoch 53/100\n",
            "484/484 [==============================] - 11s 22ms/step - loss: 3.9571 - accuracy: 0.2099\n",
            "Epoch 54/100\n",
            "484/484 [==============================] - 11s 22ms/step - loss: 3.9333 - accuracy: 0.2134\n",
            "Epoch 55/100\n",
            "484/484 [==============================] - 11s 22ms/step - loss: 3.8940 - accuracy: 0.2173\n",
            "Epoch 56/100\n",
            "484/484 [==============================] - 11s 22ms/step - loss: 3.8455 - accuracy: 0.2247\n",
            "Epoch 57/100\n",
            "484/484 [==============================] - 11s 22ms/step - loss: 3.8085 - accuracy: 0.2294\n",
            "Epoch 58/100\n",
            "484/484 [==============================] - 11s 22ms/step - loss: 3.7880 - accuracy: 0.2333\n",
            "Epoch 59/100\n",
            "484/484 [==============================] - 11s 22ms/step - loss: 3.7561 - accuracy: 0.2427\n",
            "Epoch 60/100\n",
            "484/484 [==============================] - 11s 22ms/step - loss: 3.7182 - accuracy: 0.2513\n",
            "Epoch 61/100\n",
            "484/484 [==============================] - 11s 22ms/step - loss: 3.7057 - accuracy: 0.2534\n",
            "Epoch 62/100\n",
            "484/484 [==============================] - 11s 22ms/step - loss: 3.6561 - accuracy: 0.2617\n",
            "Epoch 63/100\n",
            "484/484 [==============================] - 11s 22ms/step - loss: 3.6344 - accuracy: 0.2624\n",
            "Epoch 64/100\n",
            "484/484 [==============================] - 11s 22ms/step - loss: 3.6083 - accuracy: 0.2678\n",
            "Epoch 65/100\n",
            "484/484 [==============================] - 11s 22ms/step - loss: 3.5862 - accuracy: 0.2744\n",
            "Epoch 66/100\n",
            "484/484 [==============================] - 11s 22ms/step - loss: 3.5438 - accuracy: 0.2780\n",
            "Epoch 67/100\n",
            "484/484 [==============================] - 11s 22ms/step - loss: 3.5129 - accuracy: 0.2890\n",
            "Epoch 68/100\n",
            "484/484 [==============================] - 11s 22ms/step - loss: 3.4833 - accuracy: 0.2984\n",
            "Epoch 69/100\n",
            "484/484 [==============================] - 11s 22ms/step - loss: 3.4459 - accuracy: 0.3010\n",
            "Epoch 70/100\n",
            "484/484 [==============================] - 11s 22ms/step - loss: 3.4295 - accuracy: 0.3068\n",
            "Epoch 71/100\n",
            "484/484 [==============================] - 11s 22ms/step - loss: 3.4141 - accuracy: 0.3060\n",
            "Epoch 72/100\n",
            "484/484 [==============================] - 11s 22ms/step - loss: 3.3707 - accuracy: 0.3194\n",
            "Epoch 73/100\n",
            "484/484 [==============================] - 11s 22ms/step - loss: 3.3398 - accuracy: 0.3210\n",
            "Epoch 74/100\n",
            "484/484 [==============================] - 11s 22ms/step - loss: 3.3065 - accuracy: 0.3320\n",
            "Epoch 75/100\n",
            "484/484 [==============================] - 11s 22ms/step - loss: 3.2765 - accuracy: 0.3400\n",
            "Epoch 76/100\n",
            "484/484 [==============================] - 11s 22ms/step - loss: 3.2582 - accuracy: 0.3407\n",
            "Epoch 77/100\n",
            "484/484 [==============================] - 11s 22ms/step - loss: 3.2266 - accuracy: 0.3444\n",
            "Epoch 78/100\n",
            "484/484 [==============================] - 11s 22ms/step - loss: 3.2131 - accuracy: 0.3450\n",
            "Epoch 79/100\n",
            "484/484 [==============================] - 11s 22ms/step - loss: 3.1973 - accuracy: 0.3523\n",
            "Epoch 80/100\n",
            "484/484 [==============================] - 11s 22ms/step - loss: 3.1656 - accuracy: 0.3611\n",
            "Epoch 81/100\n",
            "484/484 [==============================] - 11s 22ms/step - loss: 3.1325 - accuracy: 0.3665\n",
            "Epoch 82/100\n",
            "484/484 [==============================] - 11s 22ms/step - loss: 3.1009 - accuracy: 0.3757\n",
            "Epoch 83/100\n",
            "484/484 [==============================] - 11s 22ms/step - loss: 3.0821 - accuracy: 0.3790\n",
            "Epoch 84/100\n",
            "484/484 [==============================] - 11s 22ms/step - loss: 3.0401 - accuracy: 0.3904\n",
            "Epoch 85/100\n",
            "484/484 [==============================] - 11s 22ms/step - loss: 3.0283 - accuracy: 0.3886\n",
            "Epoch 86/100\n",
            "484/484 [==============================] - 11s 22ms/step - loss: 3.0050 - accuracy: 0.3949\n",
            "Epoch 87/100\n",
            "484/484 [==============================] - 11s 22ms/step - loss: 2.9741 - accuracy: 0.4004\n",
            "Epoch 88/100\n",
            "484/484 [==============================] - 11s 22ms/step - loss: 2.9722 - accuracy: 0.4058\n",
            "Epoch 89/100\n",
            "484/484 [==============================] - 11s 22ms/step - loss: 2.9359 - accuracy: 0.4095\n",
            "Epoch 90/100\n",
            "484/484 [==============================] - 11s 22ms/step - loss: 2.9085 - accuracy: 0.4164\n",
            "Epoch 91/100\n",
            "484/484 [==============================] - 11s 22ms/step - loss: 2.8880 - accuracy: 0.4200\n",
            "Epoch 92/100\n",
            "484/484 [==============================] - 11s 22ms/step - loss: 2.8759 - accuracy: 0.4239\n",
            "Epoch 93/100\n",
            "484/484 [==============================] - 11s 22ms/step - loss: 2.8432 - accuracy: 0.4296\n",
            "Epoch 94/100\n",
            "484/484 [==============================] - 11s 22ms/step - loss: 2.8145 - accuracy: 0.4389\n",
            "Epoch 95/100\n",
            "484/484 [==============================] - 11s 22ms/step - loss: 2.7824 - accuracy: 0.4446\n",
            "Epoch 96/100\n",
            "484/484 [==============================] - 11s 22ms/step - loss: 2.7637 - accuracy: 0.4475\n",
            "Epoch 97/100\n",
            "484/484 [==============================] - 11s 22ms/step - loss: 2.7362 - accuracy: 0.4544\n",
            "Epoch 98/100\n",
            "484/484 [==============================] - 11s 22ms/step - loss: 2.7205 - accuracy: 0.4604\n",
            "Epoch 99/100\n",
            "484/484 [==============================] - 11s 22ms/step - loss: 2.6932 - accuracy: 0.4695\n",
            "Epoch 100/100\n",
            "484/484 [==============================] - 11s 22ms/step - loss: 2.6774 - accuracy: 0.4708\n"
          ]
        }
      ]
    },
    {
      "cell_type": "code",
      "metadata": {
        "id": "1fXTEO3GJ282",
        "outputId": "24213492-9073-4a77-9aaf-235a19d554e6",
        "colab": {
          "base_uri": "https://localhost:8080/",
          "height": 545
        }
      },
      "source": [
        "import matplotlib.pyplot as plt\n",
        "acc = history.history['accuracy']\n",
        "loss = history.history['loss']\n",
        "\n",
        "epochs = range(len(acc))\n",
        "\n",
        "plt.plot(epochs, acc, 'b', label='Training accuracy')\n",
        "plt.title('Training accuracy')\n",
        "\n",
        "plt.figure()\n",
        "\n",
        "plt.plot(epochs, loss, 'b', label='Training Loss')\n",
        "plt.title('Training loss')\n",
        "plt.legend()\n",
        "\n",
        "plt.show()"
      ],
      "execution_count": 30,
      "outputs": [
        {
          "output_type": "display_data",
          "data": {
            "text/plain": [
              "<Figure size 432x288 with 1 Axes>"
            ],
            "image/png": "[encoded data removed]"
          },
          "metadata": {
            "needs_background": "light"
          }
        },
        {
          "output_type": "display_data",
          "data": {
            "text/plain": [
              "<Figure size 432x288 with 1 Axes>"
            ],
            "image/png": "[encoded data removed]"
          },
          "metadata": {
            "needs_background": "light"
          }
        }
      ]
    },
    {
      "cell_type": "code",
      "metadata": {
        "id": "6Vc6PHgxa6Hm",
        "outputId": "1730ba19-a14b-4947-d0de-8587374729c8",
        "colab": {
          "base_uri": "https://localhost:8080/"
        }
      },
      "source": [
        "seed_text = \"Help me Obi Wan Kenobi, you're my only hope\"\n",
        "next_words = 100\n",
        "  \n",
        "for _ in range(next_words):\n",
        "\ttoken_list = tokenizer.texts_to_sequences([seed_text])[0]\n",
        "\ttoken_list = pad_sequences([token_list], maxlen=max_sequence_len-1, padding='pre')\n",
        "\tpredicted = np.argmax(model.predict(token_list), axis=-1)\n",
        "\toutput_word = \"\"\n",
        "\tfor word, index in tokenizer.word_index.items():\n",
        "\t\tif index == predicted:\n",
        "\t\t\toutput_word = word\n",
        "\t\t\tbreak\n",
        "\tseed_text += \" \" + output_word\n",
        "print(seed_text)"
      ],
      "execution_count": 32,
      "outputs": [
        {
          "output_type": "stream",
          "name": "stdout",
          "text": [
            "Help me Obi Wan Kenobi, you're my only hope your memory can shine up my smell on all all gentle something day i be earth disdain new than your song eyes is wrong muse straight up your friend did choose behind of wrinkles every number one part blunter now see lie to thee on move hate far prove crime spend appear lie doth nature grew me skill after loss will now see worth out far as dost die they strong date twain still press lie being i do you see thee one as thine eye on my lovers express'd used ' lies purge arise ill reign wealth on thee\n"
          ]
        }
      ]
    }
  ]
}