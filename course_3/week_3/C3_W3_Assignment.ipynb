{
  "cells": [
    {
      "cell_type": "code",
      "execution_count": 20,
      "metadata": {
        "id": "zX4Kg8DUTKWO"
      },
      "outputs": [],
      "source": [
        "#@title Licensed under the Apache License, Version 2.0 (the \"License\");\n",
        "# you may not use this file except in compliance with the License.\n",
        "# You may obtain a copy of the License at\n",
        "#\n",
        "# https://www.apache.org/licenses/LICENSE-2.0\n",
        "#\n",
        "# Unless required by applicable law or agreed to in writing, software\n",
        "# distributed under the License is distributed on an \"AS IS\" BASIS,\n",
        "# WITHOUT WARRANTIES OR CONDITIONS OF ANY KIND, either express or implied.\n",
        "# See the License for the specific language governing permissions and\n",
        "# limitations under the License."
      ]
    },
    {
      "cell_type": "markdown",
      "metadata": {
        "id": "gnU1TV9kV5f9"
      },
      "source": [
        "**Note:** This notebook can run using TensorFlow 2.5.0"
      ]
    },
    {
      "cell_type": "code",
      "execution_count": 21,
      "metadata": {
        "id": "qTZDRvo5V5f9"
      },
      "outputs": [],
      "source": [
        "#!pip install tensorflow==2.5.0"
      ]
    },
    {
      "cell_type": "code",
      "execution_count": 22,
      "metadata": {
        "id": "hmA6EzkQJ5jt"
      },
      "outputs": [],
      "source": [
        "import json\n",
        "import tensorflow as tf\n",
        "import csv\n",
        "import random\n",
        "import numpy as np\n",
        "\n",
        "from tensorflow.keras.preprocessing.text import Tokenizer\n",
        "from tensorflow.keras.preprocessing.sequence import pad_sequences\n",
        "from tensorflow.keras.utils import to_categorical\n",
        "from tensorflow.keras import regularizers\n",
        "\n",
        "\n",
        "embedding_dim = 100\n",
        "max_length = 16\n",
        "trunc_type='post'\n",
        "padding_type='post'\n",
        "oov_tok = \"<OOV>\"\n",
        "training_size=160000\n",
        "test_portion=.1\n",
        "\n",
        "corpus = []\n"
      ]
    },
    {
      "cell_type": "code",
      "execution_count": 23,
      "metadata": {
        "id": "vcG6OeUa25Wx",
        "outputId": "cebbcf6f-c356-4191-d432-065376e67d82",
        "colab": {
          "base_uri": "https://localhost:8080/"
        }
      },
      "outputs": [
        {
          "output_type": "stream",
          "name": "stdout",
          "text": [
            "Overwriting download.sh\n"
          ]
        }
      ],
      "source": [
        "%%writefile download.sh\n",
        "\n",
        "#!/bin/bash\n",
        "fileid=\"$1\"\n",
        "filename=\"$2\"\n",
        "html=`curl -c ./cookie -s -L \"https://drive.google.com/uc?export=download&id=${fileid}\"`\n",
        "curl -Lb ./cookie \"https://drive.google.com/uc?export=download&`echo ${html}|grep -Po '(confirm=[a-zA-Z0-9\\-_]+)'`&id=${fileid}\" -o ${filename}"
      ]
    },
    {
      "cell_type": "code",
      "execution_count": 24,
      "metadata": {
        "id": "qrPn__Ry25Wx",
        "outputId": "06436572-0152-468b-c5e1-bcfeaf989893",
        "colab": {
          "base_uri": "https://localhost:8080/"
        }
      },
      "outputs": [
        {
          "output_type": "stream",
          "name": "stdout",
          "text": [
            "  % Total    % Received % Xferd  Average Speed   Time    Time     Time  Current\n",
            "                                 Dload  Upload   Total   Spent    Left  Speed\n",
            "  0     0    0     0    0     0      0      0 --:--:-- --:--:-- --:--:--     0\n",
            "100  227M  100  227M    0     0  94.0M      0  0:00:02  0:00:02 --:--:--  100M\n"
          ]
        }
      ],
      "source": [
        "# Note that I cleaned the Stanford dataset to remove LATIN1 encoding to make it easier for Python CSV reader\n",
        "# You can do that yourself with:\n",
        "# iconv -f LATIN1 -t UTF8 training.1600000.processed.noemoticon.csv -o training_cleaned.csv\n",
        "\n",
        "!bash download.sh 1wd8KaeCSHxt-nEpMeuHFSNWrDp8joUXJ training_cleaned.csv"
      ]
    },
    {
      "cell_type": "code",
      "execution_count": 25,
      "metadata": {
        "id": "bM0l_dORKqE0"
      },
      "outputs": [],
      "source": [
        "# Note that I cleaned the Stanford dataset to remove LATIN1 encoding to make it easier for Python CSV reader\n",
        "# You can do that yourself with:\n",
        "# iconv -f LATIN1 -t UTF8 training.1600000.processed.noemoticon.csv -o training_cleaned.csv\n",
        "\n",
        "num_sentences = 0\n",
        "\n",
        "with open(\"./training_cleaned.csv\") as csvfile:\n",
        "    reader = csv.reader(csvfile, delimiter=',')\n",
        "    for row in reader:\n",
        "        list_item=[]\n",
        "        \n",
        "        ### START CODE HERE\n",
        "        #Create list items where the first item is the text, found in row[5], and the second is the label. Note that the label is a '0' or a '4' in the text. When it's the former, make\n",
        "        # your label to be 0, otherwise 1. Keep a count of the number of sentences in num_sentences\n",
        "        list_item.append(row[5])\n",
        "        if row[0] == '0':\n",
        "          list_item.append(0)\n",
        "        else:\n",
        "          list_item.append(1)\n",
        "        ### END CODE HERE\n",
        "        \n",
        "        num_sentences = num_sentences + 1\n",
        "        corpus.append(list_item)\n"
      ]
    },
    {
      "cell_type": "code",
      "execution_count": 26,
      "metadata": {
        "id": "3kxblBUjEUX-",
        "outputId": "0a747317-97c2-485e-f7e2-cc471e113f2a",
        "colab": {
          "base_uri": "https://localhost:8080/"
        }
      },
      "outputs": [
        {
          "output_type": "stream",
          "name": "stdout",
          "text": [
            "1600000\n",
            "1600000\n",
            "[\"is upset that he can't update his Facebook by texting it... and might cry as a result  School today also. Blah!\", 0]\n"
          ]
        }
      ],
      "source": [
        "print(num_sentences)\n",
        "print(len(corpus))\n",
        "print(corpus[1])\n",
        "\n",
        "# Expected Output:\n",
        "# 1600000\n",
        "# 1600000\n",
        "# [\"is upset that he can't update his Facebook by texting it... and might cry as a result  School today also. Blah!\", 0]"
      ]
    },
    {
      "cell_type": "code",
      "execution_count": 33,
      "metadata": {
        "id": "ohOGz24lsNAD"
      },
      "outputs": [],
      "source": [
        "sentences=[]\n",
        "labels=[]\n",
        "random.shuffle(corpus)\n",
        "for x in range(training_size):\n",
        "    sentences.append(corpus[x][0])\n",
        "    labels.append(corpus[x][1])\n",
        "\n",
        "\n",
        "tokenizer = Tokenizer()\n",
        "tokenizer.fit_on_texts(sentences)\n",
        "\n",
        "word_index = tokenizer.word_index\n",
        "vocab_size=len(word_index)\n",
        "\n",
        "sequences = tokenizer.texts_to_sequences(sentences)\n",
        "padded = pad_sequences(sequences, padding=padding_type, maxlen=max_length, truncating=trunc_type)\n",
        "\n",
        "split = int(test_portion * training_size)\n",
        "\n",
        "test_sequences = np.array(padded[:split])\n",
        "training_sequences = np.array(padded[split:training_size])\n",
        "test_labels = np.array(labels[:split])\n",
        "training_labels = np.array(labels[split:training_size])"
      ]
    },
    {
      "cell_type": "code",
      "execution_count": 34,
      "metadata": {
        "id": "gIrtRem1En3N",
        "outputId": "a7fd0c33-9b24-4b2e-c53c-1c7214f8c7b7",
        "colab": {
          "base_uri": "https://localhost:8080/"
        }
      },
      "outputs": [
        {
          "output_type": "stream",
          "name": "stdout",
          "text": [
            "138512\n",
            "1\n"
          ]
        }
      ],
      "source": [
        "print(vocab_size)\n",
        "print(word_index['i'])\n",
        "# Expected Output\n",
        "# 138856\n",
        "# 1"
      ]
    },
    {
      "cell_type": "code",
      "execution_count": 35,
      "metadata": {
        "id": "C1zdgJkusRh0",
        "outputId": "29f281ba-096f-41a7-e4bf-ddfbf8aeecdb",
        "colab": {
          "base_uri": "https://localhost:8080/"
        }
      },
      "outputs": [
        {
          "output_type": "stream",
          "name": "stdout",
          "text": [
            "  % Total    % Received % Xferd  Average Speed   Time    Time     Time  Current\n",
            "                                 Dload  Upload   Total   Spent    Left  Speed\n",
            "  0     0    0     0    0     0      0      0 --:--:-- --:--:-- --:--:--     0\n",
            "100  331M  100  331M    0     0   101M      0  0:00:03  0:00:03 --:--:--  123M\n"
          ]
        }
      ],
      "source": [
        "# Note this is the 100 dimension version of GloVe from Stanford\n",
        "\n",
        "# glove.6B.100d.txt\n",
        "!bash download.sh 1W5vZy2etitAblLdFn8_DxnsQKzfFJ98g glove.6B.100d.txt\n",
        "\n",
        "embeddings_index = {};\n",
        "with open('./glove.6B.100d.txt') as f:\n",
        "    for line in f:\n",
        "        values = line.split();\n",
        "        word = values[0];\n",
        "        coefs = np.asarray(values[1:], dtype='float32');\n",
        "        embeddings_index[word] = coefs;\n",
        "\n",
        "embeddings_matrix = np.zeros((vocab_size+1, embedding_dim));\n",
        "for word, i in word_index.items():\n",
        "    embedding_vector = embeddings_index.get(word);\n",
        "    if embedding_vector is not None:\n",
        "        embeddings_matrix[i] = embedding_vector;"
      ]
    },
    {
      "cell_type": "code",
      "execution_count": 36,
      "metadata": {
        "id": "71NLk_lpFLNt",
        "outputId": "88beb69b-12a9-4baa-cad8-06a139dde5e2",
        "colab": {
          "base_uri": "https://localhost:8080/"
        }
      },
      "outputs": [
        {
          "output_type": "stream",
          "name": "stdout",
          "text": [
            "138513\n"
          ]
        }
      ],
      "source": [
        "print(len(embeddings_matrix))\n",
        "# Expected Output\n",
        "# 138857"
      ]
    },
    {
      "cell_type": "code",
      "execution_count": 37,
      "metadata": {
        "id": "iKKvbuEBOGFz",
        "outputId": "5b7a866f-53a3-423b-e3e0-7887b93c1d37",
        "colab": {
          "base_uri": "https://localhost:8080/"
        }
      },
      "outputs": [
        {
          "output_type": "stream",
          "name": "stdout",
          "text": [
            "Model: \"sequential_4\"\n",
            "_________________________________________________________________\n",
            " Layer (type)                Output Shape              Param #   \n",
            "=================================================================\n",
            " embedding_4 (Embedding)     (None, 16, 100)           13851300  \n",
            "                                                                 \n",
            " bidirectional_4 (Bidirectio  (None, 64)               34048     \n",
            " nal)                                                            \n",
            "                                                                 \n",
            " dense_8 (Dense)             (None, 24)                1560      \n",
            "                                                                 \n",
            " dense_9 (Dense)             (None, 1)                 25        \n",
            "                                                                 \n",
            "=================================================================\n",
            "Total params: 13,886,933\n",
            "Trainable params: 35,633\n",
            "Non-trainable params: 13,851,300\n",
            "_________________________________________________________________\n",
            "Epoch 1/50\n",
            "4500/4500 - 47s - loss: 0.5373 - accuracy: 0.7237 - val_loss: 0.5102 - val_accuracy: 0.7430 - 47s/epoch - 11ms/step\n",
            "Epoch 2/50\n",
            "4500/4500 - 39s - loss: 0.4917 - accuracy: 0.7584 - val_loss: 0.4953 - val_accuracy: 0.7573 - 39s/epoch - 9ms/step\n",
            "Epoch 3/50\n",
            "4500/4500 - 39s - loss: 0.4706 - accuracy: 0.7724 - val_loss: 0.4857 - val_accuracy: 0.7613 - 39s/epoch - 9ms/step\n",
            "Epoch 4/50\n",
            "4500/4500 - 39s - loss: 0.4548 - accuracy: 0.7830 - val_loss: 0.4835 - val_accuracy: 0.7619 - 39s/epoch - 9ms/step\n",
            "Epoch 5/50\n",
            "4500/4500 - 40s - loss: 0.4412 - accuracy: 0.7908 - val_loss: 0.4893 - val_accuracy: 0.7595 - 40s/epoch - 9ms/step\n",
            "Epoch 6/50\n",
            "4500/4500 - 39s - loss: 0.4294 - accuracy: 0.7991 - val_loss: 0.4846 - val_accuracy: 0.7669 - 39s/epoch - 9ms/step\n",
            "Epoch 7/50\n",
            "4500/4500 - 40s - loss: 0.4178 - accuracy: 0.8063 - val_loss: 0.4951 - val_accuracy: 0.7652 - 40s/epoch - 9ms/step\n",
            "Epoch 8/50\n",
            "4500/4500 - 39s - loss: 0.4072 - accuracy: 0.8116 - val_loss: 0.4939 - val_accuracy: 0.7638 - 39s/epoch - 9ms/step\n",
            "Epoch 9/50\n",
            "4500/4500 - 39s - loss: 0.3973 - accuracy: 0.8162 - val_loss: 0.5110 - val_accuracy: 0.7596 - 39s/epoch - 9ms/step\n",
            "Epoch 10/50\n",
            "4500/4500 - 40s - loss: 0.3884 - accuracy: 0.8221 - val_loss: 0.5108 - val_accuracy: 0.7624 - 40s/epoch - 9ms/step\n",
            "Epoch 11/50\n",
            "4500/4500 - 39s - loss: 0.3791 - accuracy: 0.8279 - val_loss: 0.5257 - val_accuracy: 0.7603 - 39s/epoch - 9ms/step\n",
            "Epoch 12/50\n",
            "4500/4500 - 40s - loss: 0.3708 - accuracy: 0.8315 - val_loss: 0.5233 - val_accuracy: 0.7607 - 40s/epoch - 9ms/step\n",
            "Epoch 13/50\n",
            "4500/4500 - 39s - loss: 0.3625 - accuracy: 0.8360 - val_loss: 0.5375 - val_accuracy: 0.7576 - 39s/epoch - 9ms/step\n",
            "Epoch 14/50\n",
            "4500/4500 - 39s - loss: 0.3558 - accuracy: 0.8395 - val_loss: 0.5509 - val_accuracy: 0.7522 - 39s/epoch - 9ms/step\n",
            "Epoch 15/50\n",
            "4500/4500 - 38s - loss: 0.3486 - accuracy: 0.8435 - val_loss: 0.5496 - val_accuracy: 0.7539 - 38s/epoch - 8ms/step\n",
            "Epoch 16/50\n",
            "4500/4500 - 38s - loss: 0.3413 - accuracy: 0.8475 - val_loss: 0.5634 - val_accuracy: 0.7536 - 38s/epoch - 9ms/step\n",
            "Epoch 17/50\n",
            "4500/4500 - 39s - loss: 0.3348 - accuracy: 0.8506 - val_loss: 0.5748 - val_accuracy: 0.7501 - 39s/epoch - 9ms/step\n",
            "Epoch 18/50\n",
            "4500/4500 - 39s - loss: 0.3286 - accuracy: 0.8544 - val_loss: 0.5911 - val_accuracy: 0.7462 - 39s/epoch - 9ms/step\n",
            "Epoch 19/50\n",
            "4500/4500 - 40s - loss: 0.3217 - accuracy: 0.8562 - val_loss: 0.6311 - val_accuracy: 0.7471 - 40s/epoch - 9ms/step\n",
            "Epoch 20/50\n",
            "4500/4500 - 41s - loss: 0.3167 - accuracy: 0.8594 - val_loss: 0.6336 - val_accuracy: 0.7437 - 41s/epoch - 9ms/step\n",
            "Epoch 21/50\n",
            "4500/4500 - 40s - loss: 0.3106 - accuracy: 0.8620 - val_loss: 0.6188 - val_accuracy: 0.7429 - 40s/epoch - 9ms/step\n",
            "Epoch 22/50\n",
            "4500/4500 - 39s - loss: 0.3052 - accuracy: 0.8655 - val_loss: 0.6397 - val_accuracy: 0.7444 - 39s/epoch - 9ms/step\n",
            "Epoch 23/50\n",
            "4500/4500 - 39s - loss: 0.3001 - accuracy: 0.8675 - val_loss: 0.6552 - val_accuracy: 0.7439 - 39s/epoch - 9ms/step\n",
            "Epoch 24/50\n",
            "4500/4500 - 40s - loss: 0.2955 - accuracy: 0.8698 - val_loss: 0.6764 - val_accuracy: 0.7389 - 40s/epoch - 9ms/step\n",
            "Epoch 25/50\n",
            "4500/4500 - 38s - loss: 0.2903 - accuracy: 0.8722 - val_loss: 0.6809 - val_accuracy: 0.7373 - 38s/epoch - 9ms/step\n",
            "Epoch 26/50\n",
            "4500/4500 - 39s - loss: 0.2863 - accuracy: 0.8739 - val_loss: 0.7136 - val_accuracy: 0.7377 - 39s/epoch - 9ms/step\n",
            "Epoch 27/50\n",
            "4500/4500 - 40s - loss: 0.2826 - accuracy: 0.8748 - val_loss: 0.7281 - val_accuracy: 0.7403 - 40s/epoch - 9ms/step\n",
            "Epoch 28/50\n",
            "4500/4500 - 41s - loss: 0.2777 - accuracy: 0.8780 - val_loss: 0.7358 - val_accuracy: 0.7389 - 41s/epoch - 9ms/step\n",
            "Epoch 29/50\n",
            "4500/4500 - 42s - loss: 0.2737 - accuracy: 0.8802 - val_loss: 0.7350 - val_accuracy: 0.7393 - 42s/epoch - 9ms/step\n",
            "Epoch 30/50\n",
            "4500/4500 - 40s - loss: 0.2702 - accuracy: 0.8826 - val_loss: 0.7417 - val_accuracy: 0.7361 - 40s/epoch - 9ms/step\n",
            "Epoch 31/50\n",
            "4500/4500 - 39s - loss: 0.2668 - accuracy: 0.8830 - val_loss: 0.7771 - val_accuracy: 0.7365 - 39s/epoch - 9ms/step\n",
            "Epoch 32/50\n",
            "4500/4500 - 40s - loss: 0.2620 - accuracy: 0.8852 - val_loss: 0.7739 - val_accuracy: 0.7303 - 40s/epoch - 9ms/step\n",
            "Epoch 33/50\n",
            "4500/4500 - 38s - loss: 0.2599 - accuracy: 0.8871 - val_loss: 0.8205 - val_accuracy: 0.7331 - 38s/epoch - 9ms/step\n",
            "Epoch 34/50\n",
            "4500/4500 - 39s - loss: 0.2560 - accuracy: 0.8883 - val_loss: 0.8337 - val_accuracy: 0.7352 - 39s/epoch - 9ms/step\n",
            "Epoch 35/50\n",
            "4500/4500 - 39s - loss: 0.2522 - accuracy: 0.8898 - val_loss: 0.8463 - val_accuracy: 0.7351 - 39s/epoch - 9ms/step\n",
            "Epoch 36/50\n",
            "4500/4500 - 40s - loss: 0.2502 - accuracy: 0.8908 - val_loss: 0.8434 - val_accuracy: 0.7277 - 40s/epoch - 9ms/step\n",
            "Epoch 37/50\n",
            "4500/4500 - 39s - loss: 0.2462 - accuracy: 0.8923 - val_loss: 0.8686 - val_accuracy: 0.7283 - 39s/epoch - 9ms/step\n",
            "Epoch 38/50\n",
            "4500/4500 - 39s - loss: 0.2442 - accuracy: 0.8935 - val_loss: 0.8997 - val_accuracy: 0.7314 - 39s/epoch - 9ms/step\n",
            "Epoch 39/50\n",
            "4500/4500 - 40s - loss: 0.2408 - accuracy: 0.8955 - val_loss: 0.9018 - val_accuracy: 0.7274 - 40s/epoch - 9ms/step\n",
            "Epoch 40/50\n",
            "4500/4500 - 39s - loss: 0.2384 - accuracy: 0.8963 - val_loss: 0.9313 - val_accuracy: 0.7293 - 39s/epoch - 9ms/step\n",
            "Epoch 41/50\n",
            "4500/4500 - 39s - loss: 0.2361 - accuracy: 0.8978 - val_loss: 0.9137 - val_accuracy: 0.7271 - 39s/epoch - 9ms/step\n",
            "Epoch 42/50\n",
            "4500/4500 - 40s - loss: 0.2331 - accuracy: 0.8986 - val_loss: 0.9514 - val_accuracy: 0.7269 - 40s/epoch - 9ms/step\n",
            "Epoch 43/50\n",
            "4500/4500 - 40s - loss: 0.2308 - accuracy: 0.8996 - val_loss: 0.9421 - val_accuracy: 0.7251 - 40s/epoch - 9ms/step\n",
            "Epoch 44/50\n",
            "4500/4500 - 40s - loss: 0.2291 - accuracy: 0.9004 - val_loss: 0.9747 - val_accuracy: 0.7255 - 40s/epoch - 9ms/step\n",
            "Epoch 45/50\n",
            "4500/4500 - 39s - loss: 0.2274 - accuracy: 0.9017 - val_loss: 0.9870 - val_accuracy: 0.7243 - 39s/epoch - 9ms/step\n",
            "Epoch 46/50\n",
            "4500/4500 - 40s - loss: 0.2243 - accuracy: 0.9027 - val_loss: 1.0022 - val_accuracy: 0.7251 - 40s/epoch - 9ms/step\n",
            "Epoch 47/50\n",
            "4500/4500 - 41s - loss: 0.2224 - accuracy: 0.9031 - val_loss: 1.0189 - val_accuracy: 0.7228 - 41s/epoch - 9ms/step\n",
            "Epoch 48/50\n",
            "4500/4500 - 40s - loss: 0.2215 - accuracy: 0.9038 - val_loss: 1.0053 - val_accuracy: 0.7251 - 40s/epoch - 9ms/step\n",
            "Epoch 49/50\n",
            "4500/4500 - 41s - loss: 0.2188 - accuracy: 0.9050 - val_loss: 1.0613 - val_accuracy: 0.7251 - 41s/epoch - 9ms/step\n",
            "Epoch 50/50\n",
            "4500/4500 - 41s - loss: 0.2167 - accuracy: 0.9058 - val_loss: 1.0362 - val_accuracy: 0.7256 - 41s/epoch - 9ms/step\n",
            "Training Complete\n"
          ]
        }
      ],
      "source": [
        "model = tf.keras.Sequential([\n",
        "    tf.keras.layers.Embedding(vocab_size+1, embedding_dim, input_length=max_length, weights=[embeddings_matrix], trainable=False),\n",
        "    tf.keras.layers.Bidirectional(tf.keras.layers.LSTM(32)),\n",
        "    tf.keras.layers.Dense(24, activation='relu'),\n",
        "    tf.keras.layers.Dense(1, activation='sigmoid')\n",
        "])\n",
        "model.compile(optimizer='adam', loss='binary_crossentropy', metrics=['accuracy'])\n",
        "# model.compile(optimizer='adam', loss='binary_crossentropy', metrics=['accuracy'])\n",
        "model.summary()\n",
        "\n",
        "num_epochs = 50\n",
        "history = model.fit(training_sequences, training_labels, epochs=num_epochs, validation_data=(test_sequences, test_labels), verbose=2)\n",
        "\n",
        "print(\"Training Complete\")\n"
      ]
    },
    {
      "cell_type": "code",
      "execution_count": null,
      "metadata": {
        "id": "qxju4ItJKO8F"
      },
      "outputs": [],
      "source": [
        "import matplotlib.image  as mpimg\n",
        "import matplotlib.pyplot as plt\n",
        "\n",
        "#-----------------------------------------------------------\n",
        "# Retrieve a list of list results on training and test data\n",
        "# sets for each training epoch\n",
        "#-----------------------------------------------------------\n",
        "acc=history.history['accuracy']\n",
        "val_acc=history.history['val_accuracy']\n",
        "loss=history.history['loss']\n",
        "val_loss=history.history['val_loss']\n",
        "\n",
        "epochs=range(len(acc)) # Get number of epochs\n",
        "\n",
        "#------------------------------------------------\n",
        "# Plot training and validation accuracy per epoch\n",
        "#------------------------------------------------\n",
        "plt.plot(epochs, acc, 'r')\n",
        "plt.plot(epochs, val_acc, 'b')\n",
        "plt.title('Training and validation accuracy')\n",
        "plt.xlabel(\"Epochs\")\n",
        "plt.ylabel(\"Accuracy\")\n",
        "plt.legend([\"Accuracy\", \"Validation Accuracy\"])\n",
        "\n",
        "plt.figure()\n",
        "\n",
        "#------------------------------------------------\n",
        "# Plot training and validation loss per epoch\n",
        "#------------------------------------------------\n",
        "plt.plot(epochs, loss, 'r')\n",
        "plt.plot(epochs, val_loss, 'b')\n",
        "plt.title('Training and validation loss')\n",
        "plt.xlabel(\"Epochs\")\n",
        "plt.ylabel(\"Loss\")\n",
        "plt.legend([\"Loss\", \"Validation Loss\"])\n",
        "\n",
        "plt.figure()\n",
        "\n",
        "\n",
        "# Expected Output\n",
        "# A chart where the validation loss does not increase sharply!"
      ]
    }
  ],
  "metadata": {
    "accelerator": "GPU",
    "colab": {
      "name": "C3_W3_Assignment.ipynb",
      "provenance": []
    },
    "kernelspec": {
      "display_name": "Python 3",
      "language": "python",
      "name": "python3"
    },
    "language_info": {
      "codemirror_mode": {
        "name": "ipython",
        "version": 3
      },
      "file_extension": ".py",
      "mimetype": "text/x-python",
      "name": "python",
      "nbconvert_exporter": "python",
      "pygments_lexer": "ipython3",
      "version": "3.7.4"
    }
  },
  "nbformat": 4,
  "nbformat_minor": 0
}